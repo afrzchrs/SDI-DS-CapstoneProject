{
  "nbformat": 4,
  "nbformat_minor": 0,
  "metadata": {
    "colab": {
      "provenance": []
    },
    "kernelspec": {
      "name": "python3",
      "display_name": "Python 3"
    },
    "language_info": {
      "name": "python"
    }
  },
  "cells": [
    {
      "cell_type": "code",
      "execution_count": null,
      "metadata": {
        "colab": {
          "base_uri": "https://localhost:8080/"
        },
        "id": "_2SLU98lv72w",
        "outputId": "c9efa6a9-9cdc-4246-9e10-eecdf7353b2c"
      },
      "outputs": [
        {
          "output_type": "stream",
          "name": "stdout",
          "text": [
            "Collecting langchain_community\n",
            "  Downloading langchain_community-0.3.27-py3-none-any.whl.metadata (2.9 kB)\n",
            "Requirement already satisfied: langchain-core<1.0.0,>=0.3.66 in /usr/local/lib/python3.11/dist-packages (from langchain_community) (0.3.74)\n",
            "Requirement already satisfied: langchain<1.0.0,>=0.3.26 in /usr/local/lib/python3.11/dist-packages (from langchain_community) (0.3.27)\n",
            "Requirement already satisfied: SQLAlchemy<3,>=1.4 in /usr/local/lib/python3.11/dist-packages (from langchain_community) (2.0.43)\n",
            "Requirement already satisfied: requests<3,>=2 in /usr/local/lib/python3.11/dist-packages (from langchain_community) (2.32.3)\n",
            "Requirement already satisfied: PyYAML>=5.3 in /usr/local/lib/python3.11/dist-packages (from langchain_community) (6.0.2)\n",
            "Requirement already satisfied: aiohttp<4.0.0,>=3.8.3 in /usr/local/lib/python3.11/dist-packages (from langchain_community) (3.12.15)\n",
            "Requirement already satisfied: tenacity!=8.4.0,<10,>=8.1.0 in /usr/local/lib/python3.11/dist-packages (from langchain_community) (9.1.2)\n",
            "Collecting dataclasses-json<0.7,>=0.5.7 (from langchain_community)\n",
            "  Downloading dataclasses_json-0.6.7-py3-none-any.whl.metadata (25 kB)\n",
            "Collecting pydantic-settings<3.0.0,>=2.4.0 (from langchain_community)\n",
            "  Downloading pydantic_settings-2.10.1-py3-none-any.whl.metadata (3.4 kB)\n",
            "Requirement already satisfied: langsmith>=0.1.125 in /usr/local/lib/python3.11/dist-packages (from langchain_community) (0.4.14)\n",
            "Collecting httpx-sse<1.0.0,>=0.4.0 (from langchain_community)\n",
            "  Downloading httpx_sse-0.4.1-py3-none-any.whl.metadata (9.4 kB)\n",
            "Requirement already satisfied: numpy>=1.26.2 in /usr/local/lib/python3.11/dist-packages (from langchain_community) (2.0.2)\n",
            "Requirement already satisfied: aiohappyeyeballs>=2.5.0 in /usr/local/lib/python3.11/dist-packages (from aiohttp<4.0.0,>=3.8.3->langchain_community) (2.6.1)\n",
            "Requirement already satisfied: aiosignal>=1.4.0 in /usr/local/lib/python3.11/dist-packages (from aiohttp<4.0.0,>=3.8.3->langchain_community) (1.4.0)\n",
            "Requirement already satisfied: attrs>=17.3.0 in /usr/local/lib/python3.11/dist-packages (from aiohttp<4.0.0,>=3.8.3->langchain_community) (25.3.0)\n",
            "Requirement already satisfied: frozenlist>=1.1.1 in /usr/local/lib/python3.11/dist-packages (from aiohttp<4.0.0,>=3.8.3->langchain_community) (1.7.0)\n",
            "Requirement already satisfied: multidict<7.0,>=4.5 in /usr/local/lib/python3.11/dist-packages (from aiohttp<4.0.0,>=3.8.3->langchain_community) (6.6.4)\n",
            "Requirement already satisfied: propcache>=0.2.0 in /usr/local/lib/python3.11/dist-packages (from aiohttp<4.0.0,>=3.8.3->langchain_community) (0.3.2)\n",
            "Requirement already satisfied: yarl<2.0,>=1.17.0 in /usr/local/lib/python3.11/dist-packages (from aiohttp<4.0.0,>=3.8.3->langchain_community) (1.20.1)\n",
            "Collecting marshmallow<4.0.0,>=3.18.0 (from dataclasses-json<0.7,>=0.5.7->langchain_community)\n",
            "  Downloading marshmallow-3.26.1-py3-none-any.whl.metadata (7.3 kB)\n",
            "Collecting typing-inspect<1,>=0.4.0 (from dataclasses-json<0.7,>=0.5.7->langchain_community)\n",
            "  Downloading typing_inspect-0.9.0-py3-none-any.whl.metadata (1.5 kB)\n",
            "Requirement already satisfied: langchain-text-splitters<1.0.0,>=0.3.9 in /usr/local/lib/python3.11/dist-packages (from langchain<1.0.0,>=0.3.26->langchain_community) (0.3.9)\n",
            "Requirement already satisfied: pydantic<3.0.0,>=2.7.4 in /usr/local/lib/python3.11/dist-packages (from langchain<1.0.0,>=0.3.26->langchain_community) (2.11.7)\n",
            "Requirement already satisfied: jsonpatch<2.0,>=1.33 in /usr/local/lib/python3.11/dist-packages (from langchain-core<1.0.0,>=0.3.66->langchain_community) (1.33)\n",
            "Requirement already satisfied: typing-extensions>=4.7 in /usr/local/lib/python3.11/dist-packages (from langchain-core<1.0.0,>=0.3.66->langchain_community) (4.14.1)\n",
            "Requirement already satisfied: packaging>=23.2 in /usr/local/lib/python3.11/dist-packages (from langchain-core<1.0.0,>=0.3.66->langchain_community) (25.0)\n",
            "Requirement already satisfied: httpx<1,>=0.23.0 in /usr/local/lib/python3.11/dist-packages (from langsmith>=0.1.125->langchain_community) (0.28.1)\n",
            "Requirement already satisfied: orjson>=3.9.14 in /usr/local/lib/python3.11/dist-packages (from langsmith>=0.1.125->langchain_community) (3.11.2)\n",
            "Requirement already satisfied: requests-toolbelt>=1.0.0 in /usr/local/lib/python3.11/dist-packages (from langsmith>=0.1.125->langchain_community) (1.0.0)\n",
            "Requirement already satisfied: zstandard>=0.23.0 in /usr/local/lib/python3.11/dist-packages (from langsmith>=0.1.125->langchain_community) (0.23.0)\n",
            "Collecting python-dotenv>=0.21.0 (from pydantic-settings<3.0.0,>=2.4.0->langchain_community)\n",
            "  Downloading python_dotenv-1.1.1-py3-none-any.whl.metadata (24 kB)\n",
            "Requirement already satisfied: typing-inspection>=0.4.0 in /usr/local/lib/python3.11/dist-packages (from pydantic-settings<3.0.0,>=2.4.0->langchain_community) (0.4.1)\n",
            "Requirement already satisfied: charset-normalizer<4,>=2 in /usr/local/lib/python3.11/dist-packages (from requests<3,>=2->langchain_community) (3.4.3)\n",
            "Requirement already satisfied: idna<4,>=2.5 in /usr/local/lib/python3.11/dist-packages (from requests<3,>=2->langchain_community) (3.10)\n",
            "Requirement already satisfied: urllib3<3,>=1.21.1 in /usr/local/lib/python3.11/dist-packages (from requests<3,>=2->langchain_community) (2.5.0)\n",
            "Requirement already satisfied: certifi>=2017.4.17 in /usr/local/lib/python3.11/dist-packages (from requests<3,>=2->langchain_community) (2025.8.3)\n",
            "Requirement already satisfied: greenlet>=1 in /usr/local/lib/python3.11/dist-packages (from SQLAlchemy<3,>=1.4->langchain_community) (3.2.4)\n",
            "Requirement already satisfied: anyio in /usr/local/lib/python3.11/dist-packages (from httpx<1,>=0.23.0->langsmith>=0.1.125->langchain_community) (4.10.0)\n",
            "Requirement already satisfied: httpcore==1.* in /usr/local/lib/python3.11/dist-packages (from httpx<1,>=0.23.0->langsmith>=0.1.125->langchain_community) (1.0.9)\n",
            "Requirement already satisfied: h11>=0.16 in /usr/local/lib/python3.11/dist-packages (from httpcore==1.*->httpx<1,>=0.23.0->langsmith>=0.1.125->langchain_community) (0.16.0)\n",
            "Requirement already satisfied: jsonpointer>=1.9 in /usr/local/lib/python3.11/dist-packages (from jsonpatch<2.0,>=1.33->langchain-core<1.0.0,>=0.3.66->langchain_community) (3.0.0)\n",
            "Requirement already satisfied: annotated-types>=0.6.0 in /usr/local/lib/python3.11/dist-packages (from pydantic<3.0.0,>=2.7.4->langchain<1.0.0,>=0.3.26->langchain_community) (0.7.0)\n",
            "Requirement already satisfied: pydantic-core==2.33.2 in /usr/local/lib/python3.11/dist-packages (from pydantic<3.0.0,>=2.7.4->langchain<1.0.0,>=0.3.26->langchain_community) (2.33.2)\n",
            "Collecting mypy-extensions>=0.3.0 (from typing-inspect<1,>=0.4.0->dataclasses-json<0.7,>=0.5.7->langchain_community)\n",
            "  Downloading mypy_extensions-1.1.0-py3-none-any.whl.metadata (1.1 kB)\n",
            "Requirement already satisfied: sniffio>=1.1 in /usr/local/lib/python3.11/dist-packages (from anyio->httpx<1,>=0.23.0->langsmith>=0.1.125->langchain_community) (1.3.1)\n",
            "Downloading langchain_community-0.3.27-py3-none-any.whl (2.5 MB)\n",
            "\u001b[2K   \u001b[90m━━━━━━━━━━━━━━━━━━━━━━━━━━━━━━━━━━━━━━━━\u001b[0m \u001b[32m2.5/2.5 MB\u001b[0m \u001b[31m31.6 MB/s\u001b[0m eta \u001b[36m0:00:00\u001b[0m\n",
            "\u001b[?25hDownloading dataclasses_json-0.6.7-py3-none-any.whl (28 kB)\n",
            "Downloading httpx_sse-0.4.1-py3-none-any.whl (8.1 kB)\n",
            "Downloading pydantic_settings-2.10.1-py3-none-any.whl (45 kB)\n",
            "\u001b[2K   \u001b[90m━━━━━━━━━━━━━━━━━━━━━━━━━━━━━━━━━━━━━━━━\u001b[0m \u001b[32m45.2/45.2 kB\u001b[0m \u001b[31m2.4 MB/s\u001b[0m eta \u001b[36m0:00:00\u001b[0m\n",
            "\u001b[?25hDownloading marshmallow-3.26.1-py3-none-any.whl (50 kB)\n",
            "\u001b[2K   \u001b[90m━━━━━━━━━━━━━━━━━━━━━━━━━━━━━━━━━━━━━━━━\u001b[0m \u001b[32m50.9/50.9 kB\u001b[0m \u001b[31m3.1 MB/s\u001b[0m eta \u001b[36m0:00:00\u001b[0m\n",
            "\u001b[?25hDownloading python_dotenv-1.1.1-py3-none-any.whl (20 kB)\n",
            "Downloading typing_inspect-0.9.0-py3-none-any.whl (8.8 kB)\n",
            "Downloading mypy_extensions-1.1.0-py3-none-any.whl (5.0 kB)\n",
            "Installing collected packages: python-dotenv, mypy-extensions, marshmallow, httpx-sse, typing-inspect, pydantic-settings, dataclasses-json, langchain_community\n",
            "Successfully installed dataclasses-json-0.6.7 httpx-sse-0.4.1 langchain_community-0.3.27 marshmallow-3.26.1 mypy-extensions-1.1.0 pydantic-settings-2.10.1 python-dotenv-1.1.1 typing-inspect-0.9.0\n",
            "Collecting replicate\n",
            "  Downloading replicate-1.0.7-py3-none-any.whl.metadata (29 kB)\n",
            "Requirement already satisfied: httpx<1,>=0.21.0 in /usr/local/lib/python3.11/dist-packages (from replicate) (0.28.1)\n",
            "Requirement already satisfied: packaging in /usr/local/lib/python3.11/dist-packages (from replicate) (25.0)\n",
            "Requirement already satisfied: pydantic>1.10.7 in /usr/local/lib/python3.11/dist-packages (from replicate) (2.11.7)\n",
            "Requirement already satisfied: typing_extensions>=4.5.0 in /usr/local/lib/python3.11/dist-packages (from replicate) (4.14.1)\n",
            "Requirement already satisfied: anyio in /usr/local/lib/python3.11/dist-packages (from httpx<1,>=0.21.0->replicate) (4.10.0)\n",
            "Requirement already satisfied: certifi in /usr/local/lib/python3.11/dist-packages (from httpx<1,>=0.21.0->replicate) (2025.8.3)\n",
            "Requirement already satisfied: httpcore==1.* in /usr/local/lib/python3.11/dist-packages (from httpx<1,>=0.21.0->replicate) (1.0.9)\n",
            "Requirement already satisfied: idna in /usr/local/lib/python3.11/dist-packages (from httpx<1,>=0.21.0->replicate) (3.10)\n",
            "Requirement already satisfied: h11>=0.16 in /usr/local/lib/python3.11/dist-packages (from httpcore==1.*->httpx<1,>=0.21.0->replicate) (0.16.0)\n",
            "Requirement already satisfied: annotated-types>=0.6.0 in /usr/local/lib/python3.11/dist-packages (from pydantic>1.10.7->replicate) (0.7.0)\n",
            "Requirement already satisfied: pydantic-core==2.33.2 in /usr/local/lib/python3.11/dist-packages (from pydantic>1.10.7->replicate) (2.33.2)\n",
            "Requirement already satisfied: typing-inspection>=0.4.0 in /usr/local/lib/python3.11/dist-packages (from pydantic>1.10.7->replicate) (0.4.1)\n",
            "Requirement already satisfied: sniffio>=1.1 in /usr/local/lib/python3.11/dist-packages (from anyio->httpx<1,>=0.21.0->replicate) (1.3.1)\n",
            "Downloading replicate-1.0.7-py3-none-any.whl (48 kB)\n",
            "\u001b[2K   \u001b[90m━━━━━━━━━━━━━━━━━━━━━━━━━━━━━━━━━━━━━━━━\u001b[0m \u001b[32m48.6/48.6 kB\u001b[0m \u001b[31m2.0 MB/s\u001b[0m eta \u001b[36m0:00:00\u001b[0m\n",
            "\u001b[?25hInstalling collected packages: replicate\n",
            "Successfully installed replicate-1.0.7\n"
          ]
        }
      ],
      "source": [
        "!pip install langchain_community\n",
        "!pip install replicate"
      ]
    },
    {
      "cell_type": "code",
      "source": [
        "import kagglehub\n",
        "\n",
        "# Download latest version\n",
        "path_db = kagglehub.dataset_download(\"lakshmi25npathi/imdb-dataset-of-50k-movie-reviews\")\n",
        "\n",
        "print(\"Path to dataset files:\", path_db)"
      ],
      "metadata": {
        "colab": {
          "base_uri": "https://localhost:8080/"
        },
        "id": "F8Y8DNwPwLSU",
        "outputId": "ab9158ba-92f6-45fe-bd3d-ad1ef4d67092"
      },
      "execution_count": null,
      "outputs": [
        {
          "output_type": "stream",
          "name": "stdout",
          "text": [
            "Path to dataset files: /kaggle/input/imdb-dataset-of-50k-movie-reviews\n"
          ]
        }
      ]
    },
    {
      "cell_type": "code",
      "source": [
        "from langchain_community.llms import Replicate\n",
        "import os\n",
        "from google.colab import userdata\n",
        "import pandas as pd\n",
        "\n",
        "# Set the API token\n",
        "api_token = userdata.get('REPLICATE_API_TOKEN')\n",
        "os.environ[\"REPLICATE_API_TOKEN\"] = api_token\n",
        "\n",
        "# Model setup\n",
        "model = \"ibm-granite/granite-3.3-8b-instruct\"\n",
        "\n",
        "output = Replicate(\n",
        "  model=model,\n",
        "  replicate_api_token=api_token,\n",
        ")"
      ],
      "metadata": {
        "id": "628xK0JJwN9M"
      },
      "execution_count": null,
      "outputs": []
    },
    {
      "cell_type": "code",
      "source": [
        "# Define the csv\n",
        "csv_path = os.path.join(path_db, \"IMDB Dataset.csv\")\n",
        "df = pd.read_csv(csv_path)\n",
        "\n",
        "df.head()"
      ],
      "metadata": {
        "colab": {
          "base_uri": "https://localhost:8080/",
          "height": 206
        },
        "id": "qdhp2w8eLJKi",
        "outputId": "1aeef5e3-cc91-4654-8e75-fde8b429144f"
      },
      "execution_count": null,
      "outputs": [
        {
          "output_type": "execute_result",
          "data": {
            "text/plain": [
              "                                              review sentiment\n",
              "0  One of the other reviewers has mentioned that ...  positive\n",
              "1  A wonderful little production. <br /><br />The...  positive\n",
              "2  I thought this was a wonderful way to spend ti...  positive\n",
              "3  Basically there's a family where a little boy ...  negative\n",
              "4  Petter Mattei's \"Love in the Time of Money\" is...  positive"
            ],
            "text/html": [
              "\n",
              "  <div id=\"df-d4347afe-97c6-47c3-8cdb-5fd4c25503fc\" class=\"colab-df-container\">\n",
              "    <div>\n",
              "<style scoped>\n",
              "    .dataframe tbody tr th:only-of-type {\n",
              "        vertical-align: middle;\n",
              "    }\n",
              "\n",
              "    .dataframe tbody tr th {\n",
              "        vertical-align: top;\n",
              "    }\n",
              "\n",
              "    .dataframe thead th {\n",
              "        text-align: right;\n",
              "    }\n",
              "</style>\n",
              "<table border=\"1\" class=\"dataframe\">\n",
              "  <thead>\n",
              "    <tr style=\"text-align: right;\">\n",
              "      <th></th>\n",
              "      <th>review</th>\n",
              "      <th>sentiment</th>\n",
              "    </tr>\n",
              "  </thead>\n",
              "  <tbody>\n",
              "    <tr>\n",
              "      <th>0</th>\n",
              "      <td>One of the other reviewers has mentioned that ...</td>\n",
              "      <td>positive</td>\n",
              "    </tr>\n",
              "    <tr>\n",
              "      <th>1</th>\n",
              "      <td>A wonderful little production. &lt;br /&gt;&lt;br /&gt;The...</td>\n",
              "      <td>positive</td>\n",
              "    </tr>\n",
              "    <tr>\n",
              "      <th>2</th>\n",
              "      <td>I thought this was a wonderful way to spend ti...</td>\n",
              "      <td>positive</td>\n",
              "    </tr>\n",
              "    <tr>\n",
              "      <th>3</th>\n",
              "      <td>Basically there's a family where a little boy ...</td>\n",
              "      <td>negative</td>\n",
              "    </tr>\n",
              "    <tr>\n",
              "      <th>4</th>\n",
              "      <td>Petter Mattei's \"Love in the Time of Money\" is...</td>\n",
              "      <td>positive</td>\n",
              "    </tr>\n",
              "  </tbody>\n",
              "</table>\n",
              "</div>\n",
              "    <div class=\"colab-df-buttons\">\n",
              "\n",
              "  <div class=\"colab-df-container\">\n",
              "    <button class=\"colab-df-convert\" onclick=\"convertToInteractive('df-d4347afe-97c6-47c3-8cdb-5fd4c25503fc')\"\n",
              "            title=\"Convert this dataframe to an interactive table.\"\n",
              "            style=\"display:none;\">\n",
              "\n",
              "  <svg xmlns=\"http://www.w3.org/2000/svg\" height=\"24px\" viewBox=\"0 -960 960 960\">\n",
              "    <path d=\"M120-120v-720h720v720H120Zm60-500h600v-160H180v160Zm220 220h160v-160H400v160Zm0 220h160v-160H400v160ZM180-400h160v-160H180v160Zm440 0h160v-160H620v160ZM180-180h160v-160H180v160Zm440 0h160v-160H620v160Z\"/>\n",
              "  </svg>\n",
              "    </button>\n",
              "\n",
              "  <style>\n",
              "    .colab-df-container {\n",
              "      display:flex;\n",
              "      gap: 12px;\n",
              "    }\n",
              "\n",
              "    .colab-df-convert {\n",
              "      background-color: #E8F0FE;\n",
              "      border: none;\n",
              "      border-radius: 50%;\n",
              "      cursor: pointer;\n",
              "      display: none;\n",
              "      fill: #1967D2;\n",
              "      height: 32px;\n",
              "      padding: 0 0 0 0;\n",
              "      width: 32px;\n",
              "    }\n",
              "\n",
              "    .colab-df-convert:hover {\n",
              "      background-color: #E2EBFA;\n",
              "      box-shadow: 0px 1px 2px rgba(60, 64, 67, 0.3), 0px 1px 3px 1px rgba(60, 64, 67, 0.15);\n",
              "      fill: #174EA6;\n",
              "    }\n",
              "\n",
              "    .colab-df-buttons div {\n",
              "      margin-bottom: 4px;\n",
              "    }\n",
              "\n",
              "    [theme=dark] .colab-df-convert {\n",
              "      background-color: #3B4455;\n",
              "      fill: #D2E3FC;\n",
              "    }\n",
              "\n",
              "    [theme=dark] .colab-df-convert:hover {\n",
              "      background-color: #434B5C;\n",
              "      box-shadow: 0px 1px 3px 1px rgba(0, 0, 0, 0.15);\n",
              "      filter: drop-shadow(0px 1px 2px rgba(0, 0, 0, 0.3));\n",
              "      fill: #FFFFFF;\n",
              "    }\n",
              "  </style>\n",
              "\n",
              "    <script>\n",
              "      const buttonEl =\n",
              "        document.querySelector('#df-d4347afe-97c6-47c3-8cdb-5fd4c25503fc button.colab-df-convert');\n",
              "      buttonEl.style.display =\n",
              "        google.colab.kernel.accessAllowed ? 'block' : 'none';\n",
              "\n",
              "      async function convertToInteractive(key) {\n",
              "        const element = document.querySelector('#df-d4347afe-97c6-47c3-8cdb-5fd4c25503fc');\n",
              "        const dataTable =\n",
              "          await google.colab.kernel.invokeFunction('convertToInteractive',\n",
              "                                                    [key], {});\n",
              "        if (!dataTable) return;\n",
              "\n",
              "        const docLinkHtml = 'Like what you see? Visit the ' +\n",
              "          '<a target=\"_blank\" href=https://colab.research.google.com/notebooks/data_table.ipynb>data table notebook</a>'\n",
              "          + ' to learn more about interactive tables.';\n",
              "        element.innerHTML = '';\n",
              "        dataTable['output_type'] = 'display_data';\n",
              "        await google.colab.output.renderOutput(dataTable, element);\n",
              "        const docLink = document.createElement('div');\n",
              "        docLink.innerHTML = docLinkHtml;\n",
              "        element.appendChild(docLink);\n",
              "      }\n",
              "    </script>\n",
              "  </div>\n",
              "\n",
              "\n",
              "    <div id=\"df-6c76ee3a-8ccd-4ba9-857f-631943fba8ef\">\n",
              "      <button class=\"colab-df-quickchart\" onclick=\"quickchart('df-6c76ee3a-8ccd-4ba9-857f-631943fba8ef')\"\n",
              "                title=\"Suggest charts\"\n",
              "                style=\"display:none;\">\n",
              "\n",
              "<svg xmlns=\"http://www.w3.org/2000/svg\" height=\"24px\"viewBox=\"0 0 24 24\"\n",
              "     width=\"24px\">\n",
              "    <g>\n",
              "        <path d=\"M19 3H5c-1.1 0-2 .9-2 2v14c0 1.1.9 2 2 2h14c1.1 0 2-.9 2-2V5c0-1.1-.9-2-2-2zM9 17H7v-7h2v7zm4 0h-2V7h2v10zm4 0h-2v-4h2v4z\"/>\n",
              "    </g>\n",
              "</svg>\n",
              "      </button>\n",
              "\n",
              "<style>\n",
              "  .colab-df-quickchart {\n",
              "      --bg-color: #E8F0FE;\n",
              "      --fill-color: #1967D2;\n",
              "      --hover-bg-color: #E2EBFA;\n",
              "      --hover-fill-color: #174EA6;\n",
              "      --disabled-fill-color: #AAA;\n",
              "      --disabled-bg-color: #DDD;\n",
              "  }\n",
              "\n",
              "  [theme=dark] .colab-df-quickchart {\n",
              "      --bg-color: #3B4455;\n",
              "      --fill-color: #D2E3FC;\n",
              "      --hover-bg-color: #434B5C;\n",
              "      --hover-fill-color: #FFFFFF;\n",
              "      --disabled-bg-color: #3B4455;\n",
              "      --disabled-fill-color: #666;\n",
              "  }\n",
              "\n",
              "  .colab-df-quickchart {\n",
              "    background-color: var(--bg-color);\n",
              "    border: none;\n",
              "    border-radius: 50%;\n",
              "    cursor: pointer;\n",
              "    display: none;\n",
              "    fill: var(--fill-color);\n",
              "    height: 32px;\n",
              "    padding: 0;\n",
              "    width: 32px;\n",
              "  }\n",
              "\n",
              "  .colab-df-quickchart:hover {\n",
              "    background-color: var(--hover-bg-color);\n",
              "    box-shadow: 0 1px 2px rgba(60, 64, 67, 0.3), 0 1px 3px 1px rgba(60, 64, 67, 0.15);\n",
              "    fill: var(--button-hover-fill-color);\n",
              "  }\n",
              "\n",
              "  .colab-df-quickchart-complete:disabled,\n",
              "  .colab-df-quickchart-complete:disabled:hover {\n",
              "    background-color: var(--disabled-bg-color);\n",
              "    fill: var(--disabled-fill-color);\n",
              "    box-shadow: none;\n",
              "  }\n",
              "\n",
              "  .colab-df-spinner {\n",
              "    border: 2px solid var(--fill-color);\n",
              "    border-color: transparent;\n",
              "    border-bottom-color: var(--fill-color);\n",
              "    animation:\n",
              "      spin 1s steps(1) infinite;\n",
              "  }\n",
              "\n",
              "  @keyframes spin {\n",
              "    0% {\n",
              "      border-color: transparent;\n",
              "      border-bottom-color: var(--fill-color);\n",
              "      border-left-color: var(--fill-color);\n",
              "    }\n",
              "    20% {\n",
              "      border-color: transparent;\n",
              "      border-left-color: var(--fill-color);\n",
              "      border-top-color: var(--fill-color);\n",
              "    }\n",
              "    30% {\n",
              "      border-color: transparent;\n",
              "      border-left-color: var(--fill-color);\n",
              "      border-top-color: var(--fill-color);\n",
              "      border-right-color: var(--fill-color);\n",
              "    }\n",
              "    40% {\n",
              "      border-color: transparent;\n",
              "      border-right-color: var(--fill-color);\n",
              "      border-top-color: var(--fill-color);\n",
              "    }\n",
              "    60% {\n",
              "      border-color: transparent;\n",
              "      border-right-color: var(--fill-color);\n",
              "    }\n",
              "    80% {\n",
              "      border-color: transparent;\n",
              "      border-right-color: var(--fill-color);\n",
              "      border-bottom-color: var(--fill-color);\n",
              "    }\n",
              "    90% {\n",
              "      border-color: transparent;\n",
              "      border-bottom-color: var(--fill-color);\n",
              "    }\n",
              "  }\n",
              "</style>\n",
              "\n",
              "      <script>\n",
              "        async function quickchart(key) {\n",
              "          const quickchartButtonEl =\n",
              "            document.querySelector('#' + key + ' button');\n",
              "          quickchartButtonEl.disabled = true;  // To prevent multiple clicks.\n",
              "          quickchartButtonEl.classList.add('colab-df-spinner');\n",
              "          try {\n",
              "            const charts = await google.colab.kernel.invokeFunction(\n",
              "                'suggestCharts', [key], {});\n",
              "          } catch (error) {\n",
              "            console.error('Error during call to suggestCharts:', error);\n",
              "          }\n",
              "          quickchartButtonEl.classList.remove('colab-df-spinner');\n",
              "          quickchartButtonEl.classList.add('colab-df-quickchart-complete');\n",
              "        }\n",
              "        (() => {\n",
              "          let quickchartButtonEl =\n",
              "            document.querySelector('#df-6c76ee3a-8ccd-4ba9-857f-631943fba8ef button');\n",
              "          quickchartButtonEl.style.display =\n",
              "            google.colab.kernel.accessAllowed ? 'block' : 'none';\n",
              "        })();\n",
              "      </script>\n",
              "    </div>\n",
              "\n",
              "    </div>\n",
              "  </div>\n"
            ],
            "application/vnd.google.colaboratory.intrinsic+json": {
              "type": "dataframe",
              "variable_name": "df",
              "summary": "{\n  \"name\": \"df\",\n  \"rows\": 50000,\n  \"fields\": [\n    {\n      \"column\": \"review\",\n      \"properties\": {\n        \"dtype\": \"string\",\n        \"num_unique_values\": 49582,\n        \"samples\": [\n          \"\\\"Soul Plane\\\" is a horrible attempt at comedy that only should appeal people with thick skulls, bloodshot eyes and furry pawns. <br /><br />The plot is not only incoherent but also non-existent, acting is mostly sub sub-par with a gang of highly moronic and dreadful characters thrown in for bad measure, jokes are often spotted miles ahead and almost never even a bit amusing. This movie lacks any structure and is full of racial stereotypes that must have seemed old even in the fifties, the only thing it really has going for it is some pretty ladies, but really, if you want that you can rent something from the \\\"Adult\\\" section. OK?<br /><br />I can hardly see anything here to recommend since you'll probably have a lot a better and productive time chasing rats with a sledgehammer or inventing waterproof teabags or whatever.<br /><br />2/10\",\n          \"Guest from the Future tells a fascinating story of time travel, friendship, battle of good and evil -- all with a small budget, child actors, and few special effects. Something for Spielberg and Lucas to learn from. ;) A sixth-grader Kolya \\\"Nick\\\" Gerasimov finds a time machine in the basement of a decrepit building and travels 100 years into the future. He discovers a near-perfect, utopian society where robots play guitars and write poetry, everyone is kind to each other and people enjoy everything technology has to offer. Alice is the daughter of a prominent scientist who invented a device called Mielophone that allows to read minds of humans and animals. The device can be put to both good and bad use, depending on whose hands it falls into. When two evil space pirates from Saturn who want to rule the universe attempt to steal Mielophone, it falls into the hands of 20th century school boy Nick. With the pirates hot on his tracks, he travels back to his time, followed by the pirates, and Alice. Chaos, confusion and funny situations follow as the luckless pirates try to blend in with the earthlings. Alice enrolls in the same school Nick goes to and demonstrates superhuman abilities in PE class. The catch is, Alice doesn't know what Nick looks like, while the pirates do. Also, the pirates are able to change their appearance and turn literally into anyone. (Hmm, I wonder if this is where James Cameron got the idea for Terminator...) Who gets to Nick -- and Mielophone -- first? Excellent plot, non-stop adventures, and great soundtrack. I wish Hollywood made kid movies like this one...\",\n          \"\\\"National Treasure\\\" (2004) is a thoroughly misguided hodge-podge of plot entanglements that borrow from nearly every cloak and dagger government conspiracy clich\\u00e9 that has ever been written. The film stars Nicholas Cage as Benjamin Franklin Gates (how precious is that, I ask you?); a seemingly normal fellow who, for no other reason than being of a lineage of like-minded misguided fortune hunters, decides to steal a 'national treasure' that has been hidden by the United States founding fathers. After a bit of subtext and background that plays laughably (unintentionally) like Indiana Jones meets The Patriot, the film degenerates into one misguided whimsy after another \\u0096 attempting to create a 'Stanley Goodspeed' regurgitation of Nicholas Cage and launch the whole convoluted mess forward with a series of high octane, but disconnected misadventures.<br /><br />The relevancy and logic to having George Washington and his motley crew of patriots burying a king's ransom someplace on native soil, and then, going through the meticulous plan of leaving clues scattered throughout U.S. currency art work, is something that director Jon Turteltaub never quite gets around to explaining. Couldn't Washington found better usage for such wealth during the start up of the country? Hence, we are left with a mystery built on top of an enigma that is already on shaky ground by the time Ben appoints himself the new custodian of this untold wealth. Ben's intentions are noble \\u0096 if confusing. He's set on protecting the treasure. For who and when?\\u0085your guess is as good as mine.<br /><br />But there are a few problems with Ben's crusade. First up, his friend, Ian Holmes (Sean Bean) decides that he can't wait for Ben to make up his mind about stealing the Declaration of Independence from the National Archives (oh, yeah \\u0096 brilliant idea!). Presumably, the back of that famous document holds the secret answer to the ultimate fortune. So Ian tries to kill Ben. The assassination attempt is, of course, unsuccessful, if overly melodramatic. It also affords Ben the opportunity to pick up, and pick on, the very sultry curator of the archives, Abigail Chase (Diane Kruger). She thinks Ben is clearly a nut \\u0096 at least at the beginning. But true to action/romance form, Abby's resolve melts quicker than you can say, \\\"is that the Hope Diamond?\\\" The film moves into full X-File-ish mode, as the FBI, mistakenly believing that Ben is behind the theft, retaliate in various benign ways that lead to a multi-layering of action sequences reminiscent of Mission Impossible meets The Fugitive. Honestly, don't those guys ever get 'intelligence' information that is correct? In the final analysis, \\\"National Treasure\\\" isn't great film making, so much as it's a patchwork rehash of tired old bits from other movies, woven together from scraps, the likes of which would make IL' Betsy Ross blush.<br /><br />The Buena Vista DVD delivers a far more generous treatment than this film is deserving of. The anamorphic widescreen picture exhibits a very smooth and finely detailed image with very rich colors, natural flesh tones, solid blacks and clean whites. The stylized image is also free of blemishes and digital enhancements. The audio is 5.1 and delivers a nice sonic boom to your side and rear speakers with intensity and realism. Extras include a host of promotional junket material that is rather deep and over the top in its explanation of how and why this film was made. If only, as an audience, we had had more clarification as to why Ben and co. were chasing after an illusive treasure, this might have been one good flick. Extras conclude with the theatrical trailer, audio commentary and deleted scenes. Not for the faint-hearted \\u0096 just the thick-headed.\"\n        ],\n        \"semantic_type\": \"\",\n        \"description\": \"\"\n      }\n    },\n    {\n      \"column\": \"sentiment\",\n      \"properties\": {\n        \"dtype\": \"category\",\n        \"num_unique_values\": 2,\n        \"samples\": [\n          \"negative\",\n          \"positive\"\n        ],\n        \"semantic_type\": \"\",\n        \"description\": \"\"\n      }\n    }\n  ]\n}"
            }
          },
          "metadata": {},
          "execution_count": 7
        }
      ]
    },
    {
      "cell_type": "code",
      "source": [
        "df.info()"
      ],
      "metadata": {
        "colab": {
          "base_uri": "https://localhost:8080/"
        },
        "id": "tmzSofroMjNw",
        "outputId": "a026bade-3edb-4fd2-cace-9bf8c7a9f1b5"
      },
      "execution_count": null,
      "outputs": [
        {
          "output_type": "stream",
          "name": "stdout",
          "text": [
            "<class 'pandas.core.frame.DataFrame'>\n",
            "RangeIndex: 50000 entries, 0 to 49999\n",
            "Data columns (total 2 columns):\n",
            " #   Column     Non-Null Count  Dtype \n",
            "---  ------     --------------  ----- \n",
            " 0   review     50000 non-null  object\n",
            " 1   sentiment  50000 non-null  object\n",
            "dtypes: object(2)\n",
            "memory usage: 781.4+ KB\n"
          ]
        }
      ]
    },
    {
      "cell_type": "code",
      "source": [
        "sentiment_data = df.groupby(\"sentiment\").count()\n",
        "print(sentiment_data)"
      ],
      "metadata": {
        "colab": {
          "base_uri": "https://localhost:8080/"
        },
        "id": "y1o7xrQOUIM4",
        "outputId": "32263fb0-76eb-4564-e564-262e75337790"
      },
      "execution_count": null,
      "outputs": [
        {
          "output_type": "stream",
          "name": "stdout",
          "text": [
            "           review\n",
            "sentiment        \n",
            "negative    25000\n",
            "positive    25000\n"
          ]
        }
      ]
    },
    {
      "cell_type": "code",
      "source": [
        "sentiment = sentiment_data.index.tolist()\n",
        "review    = sentiment_data[\"review\"].tolist()\n",
        "\n",
        "print(sentiment)\n",
        "print(review)\n"
      ],
      "metadata": {
        "colab": {
          "base_uri": "https://localhost:8080/"
        },
        "id": "joan3NRsVulg",
        "outputId": "75689ea4-d105-4685-e646-1af56ddd4f73"
      },
      "execution_count": null,
      "outputs": [
        {
          "output_type": "stream",
          "name": "stdout",
          "text": [
            "['negative', 'positive']\n",
            "[25000, 25000]\n"
          ]
        }
      ]
    },
    {
      "cell_type": "code",
      "source": [
        "import matplotlib.pyplot as plt\n",
        "import numpy as np\n",
        "\n",
        "fig, ax = plt.subplots(figsize=(6, 3), subplot_kw=dict(aspect=\"equal\"))\n",
        "\n",
        "def func(pct, allvals):\n",
        "    absolute = int(np.round(pct/100.*np.sum(allvals)))\n",
        "    return f\"{pct:.1f}%\\n({absolute:d} review)\"\n",
        "\n",
        "\n",
        "wedges, texts, autotexts = ax.pie(review, autopct=lambda pct: func(pct, review),\n",
        "                                  textprops=dict(color=\"w\"))\n",
        "\n",
        "ax.legend(wedges, sentiment,\n",
        "          title=\"\",\n",
        "          loc=\"center left\",\n",
        "          bbox_to_anchor=(1, 0, 0.5, 1))\n",
        "\n",
        "plt.setp(autotexts, size=8, weight=\"bold\")\n",
        "\n",
        "ax.set_title(\"Matplotlib IMDB sentiment: A pie\")\n",
        "\n",
        "plt.show()"
      ],
      "metadata": {
        "colab": {
          "base_uri": "https://localhost:8080/",
          "height": 290
        },
        "id": "j858kMwTY76o",
        "outputId": "a3658468-74c5-41ed-8eef-dd90210148bd"
      },
      "execution_count": null,
      "outputs": [
        {
          "output_type": "display_data",
          "data": {
            "text/plain": [
              "<Figure size 600x300 with 1 Axes>"
            ],
            "image/png": "[encoded data removed]"
          },
          "metadata": {}
        }
      ]
    },
    {
      "cell_type": "code",
      "source": [
        "data = df.head(50)\n",
        "print(data)"
      ],
      "metadata": {
        "colab": {
          "base_uri": "https://localhost:8080/"
        },
        "id": "WogZbbPAXOHe",
        "outputId": "0b4e2f17-97ef-4f44-dfa6-740330c7f898"
      },
      "execution_count": null,
      "outputs": [
        {
          "output_type": "stream",
          "name": "stdout",
          "text": [
            "                                               review sentiment\n",
            "0   One of the other reviewers has mentioned that ...  positive\n",
            "1   A wonderful little production. <br /><br />The...  positive\n",
            "2   I thought this was a wonderful way to spend ti...  positive\n",
            "3   Basically there's a family where a little boy ...  negative\n",
            "4   Petter Mattei's \"Love in the Time of Money\" is...  positive\n",
            "5   Probably my all-time favorite movie, a story o...  positive\n",
            "6   I sure would like to see a resurrection of a u...  positive\n",
            "7   This show was an amazing, fresh & innovative i...  negative\n",
            "8   Encouraged by the positive comments about this...  negative\n",
            "9   If you like original gut wrenching laughter yo...  positive\n",
            "10  Phil the Alien is one of those quirky films wh...  negative\n",
            "11  I saw this movie when I was about 12 when it c...  negative\n",
            "12  So im not a big fan of Boll's work but then ag...  negative\n",
            "13  The cast played Shakespeare.<br /><br />Shakes...  negative\n",
            "14  This a fantastic movie of three prisoners who ...  positive\n",
            "15  Kind of drawn in by the erotic scenes, only to...  negative\n",
            "16  Some films just simply should not be remade. T...  positive\n",
            "17  This movie made it into one of my top 10 most ...  negative\n",
            "18  I remember this film,it was the first film i h...  positive\n",
            "19  An awful film! It must have been up against so...  negative\n",
            "20  After the success of Die Hard and it's sequels...  positive\n",
            "21  I had the terrible misfortune of having to vie...  negative\n",
            "22  What an absolutely stunning movie, if you have...  positive\n",
            "23  First of all, let's get a few things straight ...  negative\n",
            "24  This was the worst movie I saw at WorldFest an...  negative\n",
            "25  The Karen Carpenter Story shows a little more ...  positive\n",
            "26  \"The Cell\" is an exotic masterpiece, a dizzyin...  positive\n",
            "27  This film tried to be too many things all at o...  negative\n",
            "28  This movie was so frustrating. Everything seem...  negative\n",
            "29  'War movie' is a Hollywood genre that has been...  positive\n",
            "30  Taut and organically gripping, Edward Dmytryk'...  positive\n",
            "31  \"Ardh Satya\" is one of the finest film ever ma...  positive\n",
            "32  My first exposure to the Templarios & not a go...  negative\n",
            "33  One of the most significant quotes from the en...  positive\n",
            "34  I watched this film not really expecting much,...  negative\n",
            "35  I bought this film at Blockbuster for $3.00, b...  negative\n",
            "36  The plot is about the death of little children...  negative\n",
            "37  Ever watched a movie that lost the plot? Well,...  negative\n",
            "38  Okay, so this series kind of takes the route o...  positive\n",
            "39  After sitting through this pile of dung, my hu...  negative\n",
            "40  It had all the clichés of movies of this type ...  negative\n",
            "41  This movie is based on the book, \"A Many Splen...  positive\n",
            "42  Of all the films I have seen, this one, The Ra...  negative\n",
            "43  I had heard good things about \"States of Grace...  negative\n",
            "44  This movie struck home for me. Being 29, I rem...  positive\n",
            "45  As a disclaimer, I've seen the movie 5-6 times...  positive\n",
            "46  Protocol is an implausible movie whose only sa...  negative\n",
            "47  How this film could be classified as Drama, I ...  negative\n",
            "48  Preston Sturgis' THE POWER AND THE GLORY was u...  positive\n",
            "49  Average (and surprisingly tame) Fulci giallo w...  negative\n"
          ]
        }
      ]
    },
    {
      "cell_type": "code",
      "source": [
        "data_50 = data.groupby(\"sentiment\").count()\n",
        "print(data_50)"
      ],
      "metadata": {
        "colab": {
          "base_uri": "https://localhost:8080/"
        },
        "id": "4DDWVIXUXYAB",
        "outputId": "0eb6b8a8-825a-4435-a17f-3e9721667ed0"
      },
      "execution_count": null,
      "outputs": [
        {
          "output_type": "stream",
          "name": "stdout",
          "text": [
            "           review\n",
            "sentiment        \n",
            "negative       27\n",
            "positive       23\n"
          ]
        }
      ]
    },
    {
      "cell_type": "code",
      "source": [
        "sentiment = data_50.index.tolist()\n",
        "review    = data_50[\"review\"].tolist()\n",
        "\n",
        "print(sentiment)\n",
        "print(review)"
      ],
      "metadata": {
        "colab": {
          "base_uri": "https://localhost:8080/"
        },
        "id": "7QwaTG0_XxIG",
        "outputId": "121a7940-b499-4bab-cb32-2ef1e7fee93f"
      },
      "execution_count": null,
      "outputs": [
        {
          "output_type": "stream",
          "name": "stdout",
          "text": [
            "['negative', 'positive']\n",
            "[27, 23]\n"
          ]
        }
      ]
    },
    {
      "cell_type": "code",
      "source": [
        "import matplotlib.pyplot as plt\n",
        "import numpy as np\n",
        "\n",
        "fig, ax = plt.subplots(figsize=(6, 3), subplot_kw=dict(aspect=\"equal\"))\n",
        "\n",
        "def func(pct, allvals):\n",
        "    absolute = int(np.round(pct/100.*np.sum(allvals)))\n",
        "    return f\"{pct:.1f}%\\n({absolute:d} review)\"\n",
        "\n",
        "\n",
        "wedges, texts, autotexts = ax.pie(review, autopct=lambda pct: func(pct, review),\n",
        "                                  textprops=dict(color=\"w\"))\n",
        "\n",
        "ax.legend(wedges, sentiment,\n",
        "          title=\"\",\n",
        "          loc=\"center left\",\n",
        "          bbox_to_anchor=(1, 0, 0.5, 1))\n",
        "\n",
        "plt.setp(autotexts, size=8, weight=\"bold\")\n",
        "\n",
        "ax.set_title(\"Matplotlib IMDB sentiment\")\n",
        "\n",
        "plt.show()"
      ],
      "metadata": {
        "colab": {
          "base_uri": "https://localhost:8080/",
          "height": 290
        },
        "outputId": "f4f765fb-b4c6-4c36-dd7b-804dbda8cda1",
        "id": "AFaVCPXHX-un"
      },
      "execution_count": null,
      "outputs": [
        {
          "output_type": "display_data",
          "data": {
            "text/plain": [
              "<Figure size 600x300 with 1 Axes>"
            ],
            "image/png": "[encoded data removed]"
          },
          "metadata": {}
        }
      ]
    },
    {
      "cell_type": "code",
      "source": [
        "sample_reviews = df[\"review\"].head(50).tolist()\n",
        "\n",
        "reviews_text = \"\\n\".join([f\"Review {i+1}: {review}\" for i, review in enumerate(sample_reviews)])\n",
        "prompt = f\"\"\"\n",
        "Classify these reviews as Positive, Negative, or Mixed:\n",
        "{reviews_text}\n",
        "\"\"\"\n",
        "# Invoke the model with the example prompt\n",
        "response = output.invoke(prompt)\n",
        "\n",
        "# Print the response\n",
        "print(\"Granite Model Response:\\n\")\n",
        "print(response)"
      ],
      "metadata": {
        "colab": {
          "base_uri": "https://localhost:8080/"
        },
        "id": "iCiBkyGwwSI6",
        "outputId": "31ae7929-cd69-4883-bae1-bb2c242fa509"
      },
      "execution_count": null,
      "outputs": [
        {
          "output_type": "stream",
          "name": "stdout",
          "text": [
            "Granite Model Response:\n",
            "\n",
            "**Review Classifications:**\n",
            "\n",
            "1. **Review 1:** Negative - Describes \"Oz\" as brutal, hardcore, and not suitable for the faint-hearted. Despite initial discomfort, the reviewer developed a taste for it.\n",
            "\n",
            "2. **Review 2:** Positive - Praises the film for its realism, excellent filming technique, well-chosen actors, and masterful production quality.\n",
            "\n",
            "3. **Review 3:** Positive - Expresses enjoyment of a Woody Allen comedy, praising its wit, likable characters, and laughs.\n",
            "\n",
            "4. **Review 4:** Negative - Criticizes a film for being slow, failing to deliver on its thriller promise, and poorly executed, giving it a low rating of 3 out of 10.\n",
            "\n",
            "5. **Review 5:** Positive - Compliments \"Love in the Time of Money\" for its visual stunningness, sophisticated look, and excellent performances, particularly by Steve Buscemi, Rosario Dawson, Carol Kane, Michael Imperioli, and Adrian Grenier.\n",
            "\n",
            "6. **Review 6:** Positive - Highly praises an unspecified film, lauding its timeless appeal, powerful performances (especially Paul Lukas and Bette Davis), and emotional depth.\n",
            "\n",
            "7. **Review 7:** Mixed - Expresses nostalgic longing for a \"Sea Hunt\" revival, showing enthusiasm but lacking concrete details about the proposed new series.\n",
            "\n",
            "8. **Review 8:** Negative - Harshly criticizes a long-running TV show for a significant decline in quality, poor writing, and mediocre acting, though it respects the original cast.\n",
            "\n",
            "9. **Review 9:** Negative - Harshly condemns a film as one of the worst seen, citing issues with editing, pacing, storyline, acting, and soundtrack.\n",
            "\n",
            "10. **Review 10:** Positive - Categorizes the film as providing \"original gut-wrenching laughter,\" suitable for all ages.\n",
            "\n",
            "11. **Review 11:** Mixed - Describes \"Phil the Alien\" as having odd humor that loses its charm\n"
          ]
        }
      ]
    },
    {
      "cell_type": "code",
      "source": [
        "# Define refined prompt\n",
        "refined_prompt = f\"\"\"\n",
        "Classify these reviews as positive, negative, or mixed, and tag\n",
        "relevant categories (graphic quality, story, plot, acting, and how audiece think about the movie, indicator that audience used for giving their review):\n",
        "{reviews_text}\n",
        "\"\"\"\n",
        "# Invoke the model with the example prompt\n",
        "response = output.invoke(refined_prompt)\n",
        "# Print the response\n",
        "print(\"Granite Model Refined Response:\\n\")\n",
        "print(response)"
      ],
      "metadata": {
        "colab": {
          "base_uri": "https://localhost:8080/"
        },
        "id": "frhP899vwg8K",
        "outputId": "f32f5a4a-cb90-4898-ab11-add6624a5d0d"
      },
      "execution_count": null,
      "outputs": [
        {
          "output_type": "stream",
          "name": "stdout",
          "text": [
            "Granite Model Refined Response:\n",
            "\n",
            "### Review Classification and Categorization\n",
            "\n",
            "**Review 1:**\n",
            "- **Classification:** Positive\n",
            "- **Categories:** Graphic Quality (High), Story (Dark and Gritty), Plot (Complex), Acting (Strong), Audience Reception (Mixed - initially repelled, later accustomed)\n",
            "- **Tags:** brutal, unflinching violence, drugs, sex, injustice, high levels of graphic content, dark viewing experience\n",
            "\n",
            "**Review 2:**\n",
            "- **Classification:** Positive\n",
            "- **Categories:** Filming Technique (Old-time BBC style), Acting (Excellent), Writing (Terrific), Production (Masterful)\n",
            "- **Tags:** realism, seamless editing, well-chosen actors, detailed sets, homage to comedy master\n",
            "\n",
            "**Review 3:**\n",
            "- **Classification:** Positive\n",
            "- **Categories:** Plot (Simplistic but witty), Dialogue (Witty), Characters (Likable), Genre (Light-hearted Comedy)\n",
            "- **Tags:** Woody Allen comedy, light-hearted, witty, likable characters, not Match Point 2\n",
            "\n",
            "**Review 4:**\n",
            "- **Classification:** Negative\n",
            "- **Categories:** Plot (Slow and predictable), Graphic Quality (Low), Acting (Well-played parents), Audience Reception (Disappointed)\n",
            "- **Tags:** slow drama, meaningless thriller spots, not a Boogeyman movie\n",
            "\n",
            "**Review 5:**\n",
            "- **Classification:** Positive\n",
            "- **Categories:** Graphic Quality (Visually stunning), Story (Human relations), Acting (Good), Directing (Sophisticated)\n",
            "- **Tags:** stylish, luxurious look, different stages of loneliness, talented cast\n",
            "\n",
            "**Review 6:**\n",
            "- **Classification:** Positive\n",
            "- **Categories:** Story (Classic, selfless, sacrificial), Acting (Paul Lukas, Bette Davis), Audience Reception (Enduring classic)\n",
            "- **Tags:** timeless classic, sympathetic Bette Davis role, emotionally resonant\n",
            "\n",
            "**Review 7:**\n",
            "- **Classification:** Mixed\n",
            "- **Categories:** Nostalgia (Strong), Specific Request (Revival of Seahunt series\n"
          ]
        }
      ]
    },
    {
      "cell_type": "code",
      "source": [
        "multitask_prompt = f\"\"\"\n",
        "Classify these reviews as positive, negative, or mixed.\n",
        "For each review, identify relevant categories: graphic quality, story, plot, acting, and how audiece think about the movie, the reason why the reviewer giving the review/rate of the movie with the indicator of the movie\n",
        "Used this format to complete the task:\n",
        "1. **Review 1**: Positive\n",
        "   - **Categories:** Plot (Simplistic but witty), Dialogue (Witty), Characters (Likable), Genre (Light-hearted Comedy), acting(good), story(lazy writing)\n",
        "   - **Tags:** Woody Allen comedy, light-hearted, witty, likable characters, not Match Point 2\n",
        "   - **Audience Perspective:** The reviewer enjoys Woody Allen's comedy, finding it witty and entertaining, despite initial reservations. They recommend it for a light-hearted viewing experience.\n",
        "   - **Indicator of the movie that make the review:**\n",
        "{reviews_text}\n",
        "\"\"\"\n",
        "response = output.invoke(multitask_prompt)\n",
        "print(\"Granite Model Response:\\n\")\n",
        "print(response)"
      ],
      "metadata": {
        "colab": {
          "base_uri": "https://localhost:8080/"
        },
        "id": "vVT1L6dlxLTo",
        "outputId": "c007d168-0f4a-42fd-eaa3-aa7bbecd54f2"
      },
      "execution_count": null,
      "outputs": [
        {
          "output_type": "stream",
          "name": "stdout",
          "text": [
            "Granite Model Response:\n",
            "\n",
            "1. **Review 1**: Positive\n",
            "   - **Categories:** Plot (Simplistic but witty), Dialogue (Witty), Characters (Likable), Genre (Light-hearted Comedy), acting(good), story(lazy writing)\n",
            "   - **Tags:** Woody Allen comedy, light-hearted, witty, likable characters, not Match Point 2\n",
            "   - **Audience Perspective:** The reviewer enjoys Woody Allen's comedy, finding it witty and entertaining, despite initial reservations. They recommend it for a light-hearted viewing experience. \n",
            "   - **Indicator of the movie that make the review:** The reviewer's positive tone, mention of witty dialogue, likable characters, and recommendation for others to watch it, despite it not being a masterpiece.\n",
            "\n",
            "2. **Review 2**: Positive\n",
            "   - **Categories:** Filming technique (Unassuming, old-time BBC fashion), Realism, Acting (Extremely well-chosen), Writing (Terrific), Performances (Masterful)\n",
            "   - **Tags:** Michael Sheen, BBC fashion, realism, comedy, Williams' diary, seamless editing\n",
            "   - **Audience Perspective:** The reviewer appreciates the old-time BBC filming style, the realism, the well-chosen actors, and the masterful performances and writing.\n",
            "   - **Indicator of the movie that make the review:** The reviewer's admiration for the filming technique, realism, acting, and writing indicates a positive review of a well-produced and acted piece.\n",
            "\n",
            "3. **Review 3**: Positive\n",
            "   - **Categories:** Genre (Light-hearted Comedy), Dialogue (Witty), Characters (Likable), Acting (Scarlett Johansson's performance), Comparison (Not Match Point 2)\n",
            "   - **Tags:** Woody Allen comedy, witty, likable characters, Scarlett Johansson, light-hearted\n",
            "   - **Audience Perspective:** The reviewer expresses enjoyment of the comedy's wit, likable characters, and Scarlett Johansson's performance, recommending it for a fun outing with friends.\n",
            "   - **Indicator of the movie that make the review:** The reviewer's positive descriptions of the comedy's elements and their\n"
          ]
        }
      ]
    },
    {
      "cell_type": "code",
      "source": [
        "# Define refined prompt\n",
        "refined_prompt = f\"\"\"\n",
        "From all the answer about review and a few categories that has relation with the movie review. Give me the conclusion about what indicator that reviewer used for giving their review\n",
        "Used this format to complete the task:\n",
        "\n",
        "### Indicators Used for Reviewing Movies\n",
        "\n",
        "Reviewers use a variety of indicators to evaluate and provide reviews of movies. These indicators can be broadly categorized into:\n",
        "\n",
        "1. **Narrative and Plot**: Reviewers focus on the storyline, plot development, originality, and coherence. A compelling narrative or innovative plot twists can significantly elevate a film's rating.\n",
        "2. **Acting and Performances**: The quality of acting, character development, and the believability of performances are critical. Standout or poor performances can make or break a movie in reviewers' eyes.\n",
        "3. **Technical Aspects**: This includes cinematography, editing, sound design, and special effects. Technical excellence can enhance the viewing experience and is often praised in reviews.\n",
        "4. **Direction and Script**: The vision of the director and the quality of the script (dialogue, structure, and thematic depth) are important. Innovative direction or a well-crafted script can set a film apart.\n",
        "5. **Themes and Messages**: Reviewers consider the film's exploration of themes, its social commentary, and whether it delivers on its intended message.\n",
        "6. **Emotional Impact**: How a movie makes the audience feel is significant. Whether it evokes laughter, tears, suspense, or any other emotion, reviewers often comment on its emotional resonance.\n",
        "7. **Entertainment Value**: Whether a film is enjoyable or engaging, regardless of its artistic merit, is a key indicator for many reviewers.\n",
        "8. **Genre Conventions**: How well a film adheres to or subverts genre expectations is often discussed, especially in reviews for horror, action, romance, etc.\n",
        "\n",
        "{reviews_text}\n",
        "\"\"\"\n",
        "# Invoke the model with the example prompt\n",
        "response = output.invoke(refined_prompt)\n",
        "# Print the response\n",
        "print(\"Granite Model Refined Response:\\n\")\n",
        "print(response)"
      ],
      "metadata": {
        "colab": {
          "base_uri": "https://localhost:8080/"
        },
        "id": "szQFAAXhBs_L",
        "outputId": "dc731e40-3b70-47ef-9cb1-95e1ca41025b"
      },
      "execution_count": null,
      "outputs": [
        {
          "output_type": "stream",
          "name": "stdout",
          "text": [
            "Granite Model Refined Response:\n",
            "\n",
            "### Indicators Used for Reviewing Movies\n",
            "\n",
            "Reviewers employ a diverse set of criteria to evaluate and review movies. Here’s a consolidated list based on the provided reviews:\n",
            "\n",
            "1. **Narrative and Plot Coherence**: Reviewers assess the storyline, originality, and development of the plot. A compelling narrative is often praised, while convoluted or predictable plots are criticized.\n",
            "\n",
            "2. **Acting and Performances**: The quality of acting, believability, and depth of character portrayals are crucial. Standout or poor performances can significantly influence a reviewer's opinion.\n",
            "\n",
            "3. **Technical Aspects**: This includes cinematography, editing, sound design, special effects, and set design. Technical excellence is often highlighted as a strength.\n",
            "\n",
            "4. **Direction and Script**: The vision of the director and the quality of the script (dialogue, structure, thematic depth) are considered important. Innovative direction or a well-crafted script can elevate a film.\n",
            "\n",
            "5. **Themes and Messages**: Reviewers evaluate how a film explores themes, delivers social commentary, and conveys its intended message.\n",
            "\n",
            "6. **Emotional Impact**: The ability of a movie to evoke emotions, whether it's laughter, tears, suspense, or other feelings, is a significant factor.\n",
            "\n",
            "7. **Entertainment Value**: The sheer enjoyment and engagement a film provides, independent of its artistic merit, is a key consideration for many reviewers.\n",
            "\n",
            "8. **Genre Conventions**: Adherence to or subversion of genre expectations, particularly in horror, action, romance, etc., is often discussed.\n",
            "\n",
            "9. **Originality and Innovation**: Films that bring something fresh to the table or reinvent established tropes are often lauded.\n",
            "\n",
            "10. **Historical or Cultural Accuracy**: In films based on real events or historical periods, reviewers may critique the film's fidelity to actual history or cultural context.\n",
            "\n",
            "11. **Pacing and Structure**: The film’s rhythm and how well it maintains audience interest throughout is considered.\n",
            "\n",
            "12. **Cinematic Technique**: The use of visual storytelling, camera work, and editing\n"
          ]
        }
      ]
    },
    {
      "cell_type": "code",
      "source": [
        "# Define refined prompt\n",
        "refined_prompt = f\"\"\"\n",
        "From all the answer about review and a few categories that has relation with the movie review. Give me the conclusion about what are the most aspect of the movie that makes the reviewer enjoying the movie the most\n",
        "Used this format to complete the task:\n",
        "\n",
        "### Most Enjoyed Aspects of Movies\n",
        "\n",
        "From the reviews provided, the most enjoyed aspects of the movies include:\n",
        "\n",
        "- **Brutal Honesty and Realism** (e.g., \"Oz\" for its unflinching depiction of prison life with violence, drugs, and injustice).\n",
        "- **Superb Acting and Direction** (e.g., \"A Wonderful Little Production\" praised for its realism and excellent performances).\n",
        "- **Intriguing Narratives** (e.\n",
        "{reviews_text}\n",
        "\"\"\"\n",
        "# Invoke the model with the example prompt\n",
        "response = output.invoke(refined_prompt)\n",
        "# Print the response\n",
        "print(\"Granite Model Refined Response:\\n\")\n",
        "print(response)"
      ],
      "metadata": {
        "colab": {
          "base_uri": "https://localhost:8080/"
        },
        "outputId": "e82023bc-72a9-4b1b-f057-c238c459fdcb",
        "id": "fugMCIFgIGFK"
      },
      "execution_count": null,
      "outputs": [
        {
          "output_type": "stream",
          "name": "stdout",
          "text": [
            "Granite Model Refined Response:\n",
            "\n",
            "### Most Enjoyed Aspects of Movies\n",
            "\n",
            "From the reviews provided, the most enjoyed aspects of the movies include:\n",
            "\n",
            "- **Realism and Gritty Storytelling**: Reviewers appreciated movies that presented a raw and unfiltered look at real-world issues or settings, such as \"Oz\" for its depiction of prison life, and \"Cold Mountain\" for its portrayal of the Civil War-era South.\n",
            "\n",
            "- **Superb Acting and Direction**: Movies with exceptional performances and skillful direction were highly praised. Examples include \"A Wonderful Little Production\" for its realism and excellent performances, and \"The Cell\" for its stunning visuals and direction by Tarsem Singh.\n",
            "\n",
            "- **Compelling Narratives and Originality**: Unique and engaging storylines, as seen in \"The Rage\" (despite its flaws) and \"Cold Mountain,\" were enjoyed for their depth and originality.\n",
            "\n",
            "- **Musical Score**: The music in a film, such as the soundtrack in \"Love in the Time of Money,\" was appreciated for enhancing the overall experience.\n",
            "\n",
            "- **Emotional Depth and Character Development**: Movies that successfully developed characters and explored complex emotions, like \"The Karen Carpenter Story,\" were well-received.\n",
            "\n",
            "- **Entertainment Value and Originality**: Some reviewers, like those who enjoyed \"Phil the Alien,\" appreciated films for their unique humor and entertainment factor, regardless of technical flaws.\n",
            "\n",
            "- **Historical Accuracy and Cultural Representation**: Films that authentically represented historical events or cultural contexts, such as \"A Many Splendored Thing,\" were praised for their respectful treatment of the subject matter.\n",
            "\n",
            "- **Visual Aesthetics**: Movies with impressive cinematography, set designs, and special effects, such as \"The Cell,\" were noted for their visual appeal.\n",
            "\n",
            "In summary, reviewers most enjoyed movies that presented realistic and gritty stories, featured strong performances and direction, offered compelling narratives, had memorable music, explored emotional depth, provided entertainment value, respected historical contexts, and showcased impressive visuals.\n"
          ]
        }
      ]
    },
    {
      "cell_type": "code",
      "source": [
        "# Define refined prompt\n",
        "refined_prompt = f\"\"\"\n",
        "From all the answer about review and a few categories that has relation with the movie review. Give me the conclusion about what are the aspect that makes the reviewer not enjoying the movie the most as well.\n",
        "Used this format to complete the task:\n",
        "\n",
        "### Most Enjoyed Aspects of Movies\n",
        "\n",
        "From the reviews provided, the most enjoyed aspects of the movies include:\n",
        "\n",
        "- **Brutal Honesty and Realism** (e.g., \"Oz\" for its unflinching depiction of prison life with violence, drugs, and injustice).\n",
        "- **Superb Acting and Direction** (e.g., \"A Wonderful Little Production\" praised for its realism and excellent performances).\n",
        "- **Intriguing Narratives** (e.\n",
        "{reviews_text}\n",
        "\"\"\"\n",
        "# Invoke the model with the example prompt\n",
        "response = output.invoke(refined_prompt)\n",
        "# Print the response\n",
        "print(\"Granite Model Refined Response:\\n\")\n",
        "print(response)"
      ],
      "metadata": {
        "colab": {
          "base_uri": "https://localhost:8080/"
        },
        "outputId": "1755e500-b2aa-4a01-d2ad-9d5608e4334a",
        "id": "L4btRvWkIo-_"
      },
      "execution_count": null,
      "outputs": [
        {
          "output_type": "stream",
          "name": "stdout",
          "text": [
            "Granite Model Refined Response:\n",
            "\n",
            "### Most Disliked Aspects of Movies\n",
            "\n",
            "Based on the provided reviews, here are the aspects of the movies that reviewers found most displeasing:\n",
            "\n",
            "1. **Lack of Coherent Plot or Storyline**: Several reviews criticized movies for having weak, uninteresting, or confusing narratives. For example, \"The Cell\" was criticized for being too abstract, while \"WAR, INC.\" was deemed a failure at blending various genres into a cohesive film.\n",
            "\n",
            "2. **Poor Acting and Direction**: Many reviewers pointed out subpar performances and direction. \"The Karen Carpenter Story\" was critiqued for Cynthia Gibb's naive portrayal of Karen Carpenter, while \"Cold Mountain\" was noted for its unimpressive early segments and contrived romance.\n",
            "\n",
            "3. **Unoriginality and Clichés**: Reviews of movies like \"Cold Mountain\" and various war movies highlighted the overuse of clichéd dialogue, rehashed plotlines, and over-the-top action sequences.\n",
            "\n",
            "4. **Inconsistent or Absurd Characters**: \"Crossfire\" had characters whose motivations were not adequately explained, such as Robert Ryan's character's anti-Semitism. \"The Cell\" received criticism for its caricatured characters.\n",
            "\n",
            "5. **Technical Issues**: \"The Rage\" was criticized for its illogical plot, lack of continuity, and poor changes in the script. \"Protocol\" was critiqued for its implausible story.\n",
            "\n",
            "6. **Historical Inaccuracies and Misrepresentation**: \"The Power and the Glory\" was heavily criticized for its many historical inaccuracies, merging biblical figures and events out of context.\n",
            "\n",
            "7. **Boring or Predictable Outcomes**: \"Ardh Satya,\" despite its strong direction and performances, was noted for its slow pace and unfulfilling conclusion. \"Zack and Miri Make a Porno\" was criticized for its tedium and lack of excitement.\n",
            "\n",
            "8. **Overuse of Clichéd Themes**: \"The Templarios\" was criticized for its dullness despite a potentially interesting premise.\n",
            "\n",
            "9.\n"
          ]
        }
      ]
    },
    {
      "cell_type": "code",
      "source": [
        "multitask_prompt = f\"\"\"\n",
        "from the answer of reviews before, please give me top 10 movie based of the most positive review for each genre (action), ensuring they are from 1970 or later\n",
        "Used the following format:\n",
        "\n",
        "Based on the reviews provided, I've extracted and summarized the top 10 movies from each genre (action, horror, comedy, romance, and fantasy) from 1970 onwards, ensuring to highlight the most positive reviews:\n",
        "\n",
        "### Horror (from 1970 onwards with positive reviews):\n",
        "\n",
        "1. **The Shining (1980)** - Stephen King praised the film for its faithful adaptation and Jack Nicholson's iconic performance.\n",
        "2. **Alien (1979)** - Ridley Scott's masterpiece received high acclaim for its atmosphere, suspense, and groundbreaking creature design.\n",
        "3. **The Exorcist (1973)** - William Friedkin's horror classic was lauded for its intense performances, particularly Linda Blair's, and its disturbing subject matter.\n",
        "4. **Jaws (1975)** - Steven Spielberg's debut film was praised for its suspense, direction, and the innovative mechanical shark design.\n",
        "5. **Rosemary's Baby (1968, though just before 1970, it's crucial to include it)** - Roman Polanski's film was highly regarded for its psychological horror and Mia Farrow's chilling performance.\n",
        "6. **The Texas Chain Saw Massacre (1974)** - Tobe Hooper's film was lauded for its raw, disturbing atmosphere and minimalistic yet effective storytelling.\n",
        "7. **Halloween (1978)** - John Carpenter's slasher film was praised for its suspenseful score, direction, and the iconic performance of Jamie Lee Curtis.\n",
        "8. **The Thing (1982)** - John Carpenter's remake was highly regarded for its paranoia, practical effects, and Rob Bottin's creature design.\n",
        "9. **A Nightmare on Elm Street (1984)** - Wes Craven's film was lauded for its innovative villain, Freddy Krueger, and its clever concept.\n",
        "10. **The Silence of the Lambs (1991)** - Jonathan Demme's film was praised for its gripping story, Anthony Hopkins' Oscar-winning performance as Hannibal Lecter, and Jodie Foster's strong por\n",
        "\n",
        "{reviews_text}\n",
        "\"\"\"\n",
        "response = output.invoke(multitask_prompt)\n",
        "print(\"Granite Model Response:\\n\")\n",
        "print(response)"
      ],
      "metadata": {
        "colab": {
          "base_uri": "https://localhost:8080/"
        },
        "outputId": "7a2e3d36-8c6d-4c1e-8feb-04a059fa0ea8",
        "id": "hTHLgCYC-TrL"
      },
      "execution_count": null,
      "outputs": [
        {
          "output_type": "stream",
          "name": "stdout",
          "text": [
            "Granite Model Response:\n",
            "\n",
            "### Action Movies (from 1970 onwards with positive reviews):\n",
            "\n",
            "1. **Die Hard (1988)** - Praised for Bruce Willis's charismatic performance as John McClane and the innovative action sequences set in a single location.\n",
            "2. **Mad Max 2: The Road Warrior (1981)** - Highly regarded for its groundbreaking post-apocalyptic action, stunts, and Mel Gibson's iconic portrayal of Max Rockatansky.\n",
            "3. **The Dark Knight (2008)** - Critics lauded Heath Ledger's performance as the Joker, the complex narrative, and Christopher Nolan's direction.\n",
            "4. **Raiders of the Lost Ark (1981)** - Steven Spielberg's direction, Harrison Ford's charming portrayal of Indiana Jones, and the thrilling adventure received widespread acclaim.\n",
            "5. **Terminator 2: Judgment Day (1991)** - Praised for its cutting-edge special effects, Arnold Schwarzenegger's performance as the Terminator, and Linda Hamilton's strong portrayal of Sarah Connor.\n",
            "6. **Lethal Weapon (1987)** - The buddy-cop dynamic between Danny Glover's Murtaugh and Mel Gibson's Riggs was lauded, along with the mix of action and humor.\n",
            "7. **Gladiator (2000)** - Ridley Scott's direction, Russell Crowe's powerful performance as Maximus, and the epic scale of the film were widely praised.\n",
            "8. **The Bourne Identity (2002)** - Matt Damon's nuanced performance as Jason Bourne, Doug Liman's direction, and the innovative action sequences were highly praised.\n",
            "9. **John Wick (2014)** - Keanu Reeves' performance as the titular character, the stylish action choreography, and the unique premise were widely appreciated.\n",
            "10. **Casino Royale (2006)** - Daniel Craig's gritty\n"
          ]
        }
      ]
    },
    {
      "cell_type": "code",
      "source": [
        "multitask_prompt = f\"\"\"\n",
        "from the answer of reviews before, please give me top 10 movie based of the most positive review for each genre (horor), ensuring they are from 1970 or later\n",
        "Used the following format:\n",
        "\n",
        "Based on the reviews provided, I've extracted and summarized the top 10 movies from each genre (action, horror, comedy, romance, and fantasy) from 1970 onwards, ensuring to highlight the most positive reviews:\n",
        "\n",
        "### Horror (from 1970 onwards with positive reviews):\n",
        "\n",
        "1. **The Shining (1980)** - Stephen King praised the film for its faithful adaptation and Jack Nicholson's iconic performance.\n",
        "2. **Alien (1979)** - Ridley Scott's masterpiece received high acclaim for its atmosphere, suspense, and groundbreaking creature design.\n",
        "3. **The Exorcist (1973)** - William Friedkin's horror classic was lauded for its intense performances, particularly Linda Blair's, and its disturbing subject matter.\n",
        "4. **Jaws (1975)** - Steven Spielberg's debut film was praised for its suspense, direction, and the innovative mechanical shark design.\n",
        "5. **Rosemary's Baby (1968, though just before 1970, it's crucial to include it)** - Roman Polanski's film was highly regarded for its psychological horror and Mia Farrow's chilling performance.\n",
        "6. **The Texas Chain Saw Massacre (1974)** - Tobe Hooper's film was lauded for its raw, disturbing atmosphere and minimalistic yet effective storytelling.\n",
        "7. **Halloween (1978)** - John Carpenter's slasher film was praised for its suspenseful score, direction, and the iconic performance of Jamie Lee Curtis.\n",
        "8. **The Thing (1982)** - John Carpenter's remake was highly regarded for its paranoia, practical effects, and Rob Bottin's creature design.\n",
        "9. **A Nightmare on Elm Street (1984)** - Wes Craven's film was lauded for its innovative villain, Freddy Krueger, and its clever concept.\n",
        "10. **The Silence of the Lambs (1991)** - Jonathan Demme's film was praised for its gripping story, Anthony Hopkins' Oscar-winning performance as Hannibal Lecter, and Jodie Foster's strong por\n",
        "\n",
        "without review\n",
        "{reviews_text}\n",
        "\"\"\"\n",
        "response = output.invoke(multitask_prompt)\n",
        "print(\"Granite Model Response:\\n\")\n",
        "print(response)"
      ],
      "metadata": {
        "colab": {
          "base_uri": "https://localhost:8080/"
        },
        "id": "MHMvQJPu-cgj",
        "outputId": "f33e9b38-7aec-450a-84d4-388838574a68"
      },
      "execution_count": null,
      "outputs": [
        {
          "output_type": "stream",
          "name": "stdout",
          "text": [
            "Granite Model Response:\n",
            "\n",
            "### Horror (from 1970 onwards with positive reviews):\n",
            "\n",
            "1. **The Shining (1980)** - Stephen King praised the film for its faithful adaptation and Jack Nicholson's iconic performance.\n",
            "2. **Alien (1979)** - Ridley Scott's masterpiece received high acclaim for its atmosphere, suspense, and groundbreaking creature design.\n",
            "3. **The Exorcist (1973)** - William Friedkin's horror classic was lauded for its intense performances, particularly Linda Blair's, and its disturbing subject matter.\n",
            "4. **Jaws (1975)** - Steven Spielberg's debut film was praised for its suspense, direction, and the innovative mechanical shark design.\n",
            "5. **Rosemary's Baby (1968, though just before 1970, it's crucial to include it)** - Roman Polanski's film was highly regarded for its psychological horror and Mia Farrow's chilling performance.\n",
            "6. **The Texas Chain Saw Massacre (1974)** - Tobe Hooper's film was lauded for its raw, disturbing atmosphere and minimalistic yet effective storytelling.\n",
            "7. **Halloween (1978)** - John Carpenter's slasher film was praised for its suspenseful score, direction, and the iconic performance of Jamie Lee Curtis.\n",
            "8. **The Thing (1982)** - John Carpenter's remake was highly regarded for its paranoia, practical effects, and Rob Bottin's creature design.\n",
            "9. **A Nightmare on Elm Street (1984)** - Wes Craven's film was lauded for its innovative villain, Freddy Krueger, and its clever concept.\n",
            "10. **The Silence of the Lambs (1991)** - Jonathan Demme's film was praised for its gripping story, Anthony Hopkins' Oscar-winning performance as Hannibal Lecter, and Jodie Foster's strong portray\n"
          ]
        }
      ]
    },
    {
      "cell_type": "code",
      "source": [
        "multitask_prompt = f\"\"\"\n",
        "from the answer of reviews before, please give me top 10 movie based of the most positive review for each genre (comedy), ensuring they are from 1970 or later\n",
        "Used the following format:\n",
        "\n",
        "Based on the reviews provided, I've extracted and summarized the top 10 movies from each genre (action, horror, comedy, romance, and fantasy) from 1970 onwards, ensuring to highlight the most positive reviews:\n",
        "\n",
        "### Horror (from 1970 onwards with positive reviews):\n",
        "\n",
        "1. **The Shining (1980)** - Stephen King praised the film for its faithful adaptation and Jack Nicholson's iconic performance.\n",
        "2. **Alien (1979)** - Ridley Scott's masterpiece received high acclaim for its atmosphere, suspense, and groundbreaking creature design.\n",
        "3. **The Exorcist (1973)** - William Friedkin's horror classic was lauded for its intense performances, particularly Linda Blair's, and its disturbing subject matter.\n",
        "4. **Jaws (1975)** - Steven Spielberg's debut film was praised for its suspense, direction, and the innovative mechanical shark design.\n",
        "5. **Rosemary's Baby (1968, though just before 1970, it's crucial to include it)** - Roman Polanski's film was highly regarded for its psychological horror and Mia Farrow's chilling performance.\n",
        "6. **The Texas Chain Saw Massacre (1974)** - Tobe Hooper's film was lauded for its raw, disturbing atmosphere and minimalistic yet effective storytelling.\n",
        "7. **Halloween (1978)** - John Carpenter's slasher film was praised for its suspenseful score, direction, and the iconic performance of Jamie Lee Curtis.\n",
        "8. **The Thing (1982)** - John Carpenter's remake was highly regarded for its paranoia, practical effects, and Rob Bottin's creature design.\n",
        "9. **A Nightmare on Elm Street (1984)** - Wes Craven's film was lauded for its innovative villain, Freddy Krueger, and its clever concept.\n",
        "10. **The Silence of the Lambs (1991)** - Jonathan Demme's film was praised for its gripping story, Anthony Hopkins' Oscar-winning performance as Hannibal Lecter, and Jodie Foster's strong por\n",
        "{reviews_text}\n",
        "\"\"\"\n",
        "response = output.invoke(multitask_prompt)\n",
        "print(\"Granite Model Response:\\n\")\n",
        "print(response)"
      ],
      "metadata": {
        "colab": {
          "base_uri": "https://localhost:8080/"
        },
        "outputId": "8fc863dd-5086-4485-a083-b79299c50a2e",
        "id": "A83g1erM-0om"
      },
      "execution_count": null,
      "outputs": [
        {
          "output_type": "stream",
          "name": "stdout",
          "text": [
            "Granite Model Response:\n",
            "\n",
            "### Comedy (from 1970 onwards with positive reviews):\n",
            "\n",
            "1. **Monty Python and the Holy Grail (1975)** - Critics praised the film for its clever writing, absurdist humor, and the iconic performances by the Monty Python troupe.\n",
            "\n",
            "2. **Annie Hall (1977)** - Woody Allen's semi-autobiographical film was lauded for its witty script, charming performances, and innovative narrative structure.\n",
            "\n",
            "3. **The Big Lebowski (1998)** - Coen Brothers' cult classic was praised for its dark humor, memorable characters, and the Coens' signature blend of crime and comedy.\n",
            "\n",
            "4. **When Harry Met Sally... (1989)** - The film was highly regarded for its sharp dialogue, relatable characters, and exploration of friendship and romance.\n",
            "\n",
            "5. **Groundhog Day (1993)** - Critics and audiences alike enjoyed the film's clever concept, Bill Murray's performance, and its exploration of personal growth and redemption.\n",
            "\n",
            "6. **Fargo (1996)** - The Coen Brothers' dark comedy thriller was praised for its quirky characters, gripping plot, and dark humor.\n",
            "\n",
            "7. **The Royal Tenenbaums (2001)** - Wes Anderson's film was lauded for its distinctive visual style, quirky characters, and a blend of drama and comedy.\n",
            "\n",
            "8. **Superbad (2007)** - The coming-of-age film was praised for its hilarious script, relatable characters, and nostalgic depiction of high school life.\n",
            "\n",
            "9. **Juno (2007)** - The film was highly regarded for its sharp, witty dialogue, endearing protagonist, and exploration of teenage pregnancy with a comedic touch.\n",
            "\n",
            "10. **Bridesmaids (2011)** - Critics and audiences alike enjoyed the film's raunchy humor, strong female ensemble, and heart\n"
          ]
        }
      ]
    },
    {
      "cell_type": "code",
      "source": [
        "multitask_prompt = f\"\"\"\n",
        "from the answer of reviews before, please give me top 10 movie based of the most positive review for each genre (fantasy), ensuring they are from 1970 or later\n",
        "Used the following format:\n",
        "\n",
        "Based on the reviews provided, I've extracted and summarized the top 10 movies from each genre (action, horror, comedy, romance, and fantasy) from 1970 onwards, ensuring to highlight the most positive reviews:\n",
        "\n",
        "\n",
        "### Animation (from 1970 onwards with positive reviews):\n",
        "\n",
        "1. **Spirited Away (2001)** - Critics and audiences alike praised Studio Ghibli's masterpiece for its enchanting storytelling, beautiful animation, and profound themes about growing up and self-discovery.\n",
        "\n",
        "2. **The Lion King (1994)** - This Disney classic received high acclaim for its memorable characters, stunning animation, and powerful score by Hans Zimmer and Lebo M.\n",
        "\n",
        "3. **Toy Story (1995)** - Pixar's groundbreaking film was lauded for its innovative computer animation, clever story, and endearing characters.\n",
        "\n",
        "4. **Beauty and the Beast (1991)** - This Disney film was praised for its strong female protagonist, beautiful animation, and memorable musical numbers.\n",
        "\n",
        "5. **Up (2009)** - Critics applauded Pixar's emotional journey, stunning visuals, and heartwarming story.\n",
        "\n",
        "6. **Waltz with Bashir (2008)** - This Israeli animated documentary film received acclaim for its unique animation style, powerful storytelling, and exploration of the psychological impact of war.\n",
        "\n",
        "7. **Persepolis (2007)** - Marjane Satrapi's autobiographical film was praised for its striking black-and-white animation, personal narrative, and commentary on Iranian culture and politics.\n",
        "\n",
        "8. **The Triplets of Belleville (2003)** - Critics lauded this French animated film for its distinctive art style, quirky humor, and engaging story.\n",
        "\n",
        "9. **Kiki's Delivery Service (1989)** - Studio Ghibli's coming-of-age tale was praised for its warmth, charming characters, and beautiful animation.\n",
        "\n",
        "10. **Spirited Away (2001)** - Mentioned again here due to its overwhelmingly positive reception globally, it continues to be celebrated for its imaginative world-building, strong female protagonist\n",
        "{reviews_text}\n",
        "\"\"\"\n",
        "response = output.invoke(multitask_prompt)\n",
        "print(\"Granite Model Response:\\n\")\n",
        "print(response)"
      ],
      "metadata": {
        "colab": {
          "base_uri": "https://localhost:8080/"
        },
        "outputId": "eae39cea-2681-4e63-c035-b000e689e25a",
        "id": "Wmc3ne0b_T7b"
      },
      "execution_count": null,
      "outputs": [
        {
          "output_type": "stream",
          "name": "stdout",
          "text": [
            "Granite Model Response:\n",
            "\n",
            "### Fantasy Movies (1970 onwards with Positive Reviews):\n",
            "\n",
            "1. **The Lord of the Rings Trilogy (2001-2003)** - Critics and audiences praised Peter Jackson's adaptation of J.R.R. Tolkien's epic fantasy series for its stunning visual effects, faithful storytelling, and richly detailed Middle-earth.\n",
            "\n",
            "2. **Pan's Labyrinth (2006)** - Guillermo del Toro's dark fantasy received universal acclaim for its beautiful imagery, compelling story, and exploration of dark themes within a historical context.\n",
            "\n",
            "3. **The Chronicles of Narnia: The Lion, the Witch and the Wardrobe (2005)** - This adaptation of C.S. Lewis's classic novel was lauded for its visual spectacle, faithfulness to the source material, and strong performances, particularly by the child actors.\n",
            "\n",
            "4. **Harry Potter and the Philosopher's Stone (2001)** - The first installment in the beloved Harry Potter series was praised for bringing J.K. Rowling's magical world to life with a talented young cast and a faithful adaptation of the book.\n",
            "\n",
            "5. **The Princess Bride (1987)** - A romantic fantasy comedy, it was celebrated for its witty script, charming performances, and clever blend of humor and adventure.\n",
            "\n",
            "6. **The Dark Crystal (1982)** - This Jim Henson-directed fantasy film was lauded for its groundbreaking puppetry, immersive world-building, and imaginative story.\n",
            "\n",
            "7. **Labyrinth (1986)** - Directed by Jim Henson, it was praised for its fantastical creatures, David Bowie's memorable performance, and a strong narrative that balanced darkness and whimsy.\n",
            "\n",
            "8. **Stardust (2007)** - Matthew Vaughn's adaptation of Neil Gaiman's novel was praised for its enchanting story, stellar\n"
          ]
        }
      ]
    },
    {
      "cell_type": "code",
      "source": [
        "\n",
        "multitask_prompt = f\"\"\"\n",
        "from the answer of reviews before, please give me top 10 movie based of the most positive review for each genre (animation), ensuring they are from 1970 or later\n",
        "Used the following format:\n",
        "\n",
        "Based on the reviews provided, I've extracted and summarized the top 10 movies from each genre (action, horror, comedy, romance, and fantasy) from 1970 onwards, ensuring to highlight the most positive reviews:\n",
        "\n",
        "### Horror (from 1970 onwards with positive reviews):\n",
        "\n",
        "1. **The Shining (1980)** - Stephen King praised the film for its faithful adaptation and Jack Nicholson's iconic performance.\n",
        "2. **Alien (1979)** - Ridley Scott's masterpiece received high acclaim for its atmosphere, suspense, and groundbreaking creature design.\n",
        "3. **The Exorcist (1973)** - William Friedkin's horror classic was lauded for its intense performances, particularly Linda Blair's, and its disturbing subject matter.\n",
        "4. **Jaws (1975)** - Steven Spielberg's debut film was praised for its suspense, direction, and the innovative mechanical shark design.\n",
        "5. **Rosemary's Baby (1968, though just before 1970, it's crucial to include it)** - Roman Polanski's film was highly regarded for its psychological horror and Mia Farrow's chilling performance.\n",
        "6. **The Texas Chain Saw Massacre (1974)** - Tobe Hooper's film was lauded for its raw, disturbing atmosphere and minimalistic yet effective storytelling.\n",
        "7. **Halloween (1978)** - John Carpenter's slasher film was praised for its suspenseful score, direction, and the iconic performance of Jamie Lee Curtis.\n",
        "8. **The Thing (1982)** - John Carpenter's remake was highly regarded for its paranoia, practical effects, and Rob Bottin's creature design.\n",
        "9. **A Nightmare on Elm Street (1984)** - Wes Craven's film was lauded for its innovative villain, Freddy Krueger, and its clever concept.\n",
        "10. **The Silence of the Lambs (1991)** - Jonathan Demme's film was praised for its gripping story, Anthony Hopkins' Oscar-winning performance as Hannibal Lecter, and Jodie Foster's strong por\n",
        "{reviews_text}\n",
        "\"\"\"\n",
        "response = output.invoke(multitask_prompt)\n",
        "print(\"Granite Model Response:\\n\")\n",
        "print(response)"
      ],
      "metadata": {
        "colab": {
          "base_uri": "https://localhost:8080/"
        },
        "outputId": "5cd9e724-efb7-4e63-db9a-ca5af1c4ec22",
        "id": "h5RXfKi9_3YK"
      },
      "execution_count": null,
      "outputs": [
        {
          "output_type": "stream",
          "name": "stdout",
          "text": [
            "Granite Model Response:\n",
            "\n",
            "### Animation (from 1970 onwards with positive reviews):\n",
            "\n",
            "1. **Spirited Away (2001)** - Critics and audiences alike praised Studio Ghibli's masterpiece for its enchanting storytelling, beautiful animation, and profound themes about growing up and self-discovery.\n",
            "\n",
            "2. **The Lion King (1994)** - This Disney classic received high acclaim for its memorable characters, stunning animation, and powerful score by Hans Zimmer and Lebo M.\n",
            "\n",
            "3. **Toy Story (1995)** - Pixar's groundbreaking film was lauded for its innovative computer animation, clever story, and endearing characters.\n",
            "\n",
            "4. **Beauty and the Beast (1991)** - This Disney film was praised for its strong female protagonist, beautiful animation, and memorable musical numbers.\n",
            "\n",
            "5. **Up (2009)** - Critics applauded Pixar's emotional journey, stunning visuals, and heartwarming story.\n",
            "\n",
            "6. **Waltz with Bashir (2008)** - This Israeli animated documentary film received acclaim for its unique animation style, powerful storytelling, and exploration of the psychological impact of war.\n",
            "\n",
            "7. **Persepolis (2007)** - Marjane Satrapi's autobiographical film was praised for its striking black-and-white animation, personal narrative, and commentary on Iranian culture and politics.\n",
            "\n",
            "8. **The Triplets of Belleville (2003)** - Critics lauded this French animated film for its distinctive art style, quirky humor, and engaging story.\n",
            "\n",
            "9. **Kiki's Delivery Service (1989)** - Studio Ghibli's coming-of-age tale was praised for its warmth, charming characters, and beautiful animation.\n",
            "\n",
            "10. **Spirited Away (2001)** - Mentioned again here due to its overwhelmingly positive reception globally, it continues to be celebrated for its imaginative world-building, strong female protagonist\n"
          ]
        }
      ]
    },
    {
      "cell_type": "code",
      "source": [
        "# Define the prompt to complete the task in 2 steps\n",
        "multitask_prompt = f\"\"\"\n",
        "from the answer of reviews before, please give me top 10 movie based of the most positive review for each genre (action), ensuring they are from 1970 or later\n",
        "Used the following format:\n",
        "\n",
        "Based on the reviews provided, I've extracted and summarized the top 10 movies from each genre (action, horror, comedy, romance, and fantasy) from 1970 onwards, ensuring to highlight the most positive reviews:\n",
        "\n",
        "### Action:\n",
        "1. **Die Hard (1988)** - Praised for its thrilling action sequences, Bruce Willis's performance, and Alan Rickman's villainous role.\n",
        "   Review 1:\n",
        "2.\n",
        "\n",
        "Give me 10 the best movies\n",
        "{reviews_text}\n",
        "\"\"\"\n",
        "response = output.invoke(multitask_prompt)\n",
        "print(\"Granite Model Response:\\n\")\n",
        "print(response)"
      ],
      "metadata": {
        "colab": {
          "base_uri": "https://localhost:8080/"
        },
        "id": "73Ljm6mJxy76",
        "outputId": "6d725ef7-2325-46ce-d8da-839c21ae20e4"
      },
      "execution_count": null,
      "outputs": [
        {
          "output_type": "stream",
          "name": "stdout",
          "text": [
            "Granite Model Response:\n",
            "\n",
            "### Action (1970 onwards, based on positive reviews):\n",
            "\n",
            "1. **Die Hard (1988)** - Highly praised for its intense action, Bruce Willis's charismatic performance, and Alan Rickman's iconic villainous role.\n",
            "   - Review 1: \"Die Hard is a masterclass in action filmmaking, with Bruce Willis delivering a star-making performance as John McClane. The film's clever blend of humor, suspense, and relentless action makes it a timeless classic.\"\n",
            "\n",
            "2. **Mad Max: Fury Road (2015)** - Celebrated for its high-octane action sequences, groundbreaking stunts, and feminist undertones.\n",
            "   - Review 1: \"Mad Max: Fury Road is an exhilarating, visually stunning action spectacle. Tom Hardy and Charlize Theron lead a powerhouse cast in a post-apocalyptic adventure that never lets up.\"\n",
            "\n",
            "3. **The Dark Knight (2008)** - Acclaimed for its gritty realism, Heath Ledger's Oscar-winning portrayal of the Joker, and Christian Bale's brooding Batman.\n",
            "   - Review 1: \"Christopher Nolan's The Dark Knight elevates the superhero genre with its complex characters, intense performances, and a gripping narrative that explores the battle between good and evil.\"\n",
            "\n",
            "4. **Inception (2010)** - Praised for its intricate plot, mind-bending visual effects, and masterful direction by Christopher Nolan.\n",
            "   - Review 1: \"Inception is a visually dazzling and intellectually stimulating film that seamlessly blends action, science fiction, and heist elements into a cohesive and unforgettable cinematic experience.\"\n",
            "\n",
            "5. **Gladiator (2000)** - Highly regarded for its epic scale, intense battle scenes, and Russell Crowe's Oscar-winning performance as Maximus.\n",
            "   - Review 1: \"Gladiator delivers an exhilarating blend of historical drama and action, with Russell Crowe\n"
          ]
        }
      ]
    },
    {
      "cell_type": "code",
      "source": [
        "\n",
        "multitask_prompt = f\"\"\"\n",
        "from the answer of reviews before, please give me top 10 movie based of the most positive review for each genre (horror), ensuring they are from 1970 or later\n",
        "Used the following format:\n",
        "\n",
        "Based on the reviews provided, I've extracted and summarized the top 10 movies from each genre (horror) from 1970 onwards, ensuring to highlight the most positive reviews:\n",
        "\n",
        "### horor:\n",
        "1. **The Shining (1980)** - \"One of the other reviewers has mentioned that after watching just 1 Oz episode you'll be hooked... This show pulls no punches with regards to drugs, sex or violence. Its is hardcore, in the classic use of the word.\"\n",
        "   Review 1:\n",
        "{reviews_text}\n",
        "\"\"\"\n",
        "response = output.invoke(multitask_prompt)\n",
        "print(\"Granite Model Response:\\n\")\n",
        "print(response)"
      ],
      "metadata": {
        "colab": {
          "base_uri": "https://localhost:8080/"
        },
        "outputId": "532404e4-99e6-41bb-cb38-403ed61f0068",
        "id": "knwQf2Ai8Jei"
      },
      "execution_count": null,
      "outputs": [
        {
          "output_type": "stream",
          "name": "stdout",
          "text": [
            "Granite Model Response:\n",
            "\n",
            "### Horror (1970 onwards - Most Positive Reviews):\n",
            "\n",
            "1. **The Shining (1980)** - \"One of the other reviewers has mentioned that after watching just 1 Oz episode you'll be hooked... This show pulls no punches with regards to drugs, sex or violence. Its is hardcore, in the classic use of the word.\"\n",
            "   - Review 1 highlights the show's unflinching depiction of violence, drugs, and sex, making it a gripping and hardcore watch.\n",
            "\n",
            "2. **Psycho (1960)** - Although technically before 1970, its impact and acclaim are undeniable, and it continues to influence horror.\n",
            "   - Review: \"I've never been so scared in my life. Alfred Hitchcock's masterful direction, Bernard Herrmann's iconic score, and Anthony Perkins' chilling performance make 'Psycho' a timeless classic.\"\n",
            "\n",
            "3. **The Exorcist (1973)** - \"A landmark in horror cinema, a terrifying exorcism tale that still sends shivers down spines.\"\n",
            "   - Review: \"The Exorcist is a tour-de-force of horror, blending religious dread with visceral scares. William Friedkin's direction is masterful, and Linda Blair's performance is unforgettable.\"\n",
            "\n",
            "4. **Rosemary's Baby (1968)** - \"A chilling tale of maternal paranoia, Roman Polanski's direction is impeccable.\"\n",
            "   - Review: \"Roman Polanski's Rosemary's Baby is a masterclass in psychological horror. Mia Farrow's performance is subtle yet powerful, and the suspense builds beautifully.\"\n",
            "\n",
            "5. **Jaws (1975)** - \"The original summer blockbuster, a simple yet effective shark thriller that set the standard for disaster movies.\"\n",
            "   - Review: \"Spielberg's Jaws is a suspenseful, well-crafted film. The mechanical shark may be a letdown at times, but the tension and John Williams' score are un\n"
          ]
        }
      ]
    },
    {
      "cell_type": "code",
      "source": [
        "\n",
        "multitask_prompt = f\"\"\"\n",
        "from the answer of reviews before, please give me top 10 movie based of the most positive review for each genre (comedy), ensuring they are from 1970 or later\n",
        "Used the following format:\n",
        "\n",
        "Based on the reviews provided, I've extracted and summarized the top 10 movies from each genre (horror) from 1970 onwards, ensuring to highlight the most positive reviews:\n",
        "\n",
        "### comedy:\n",
        "1.  **Monty Python and the Holy Grail (1975)**\n",
        "   - Review 1: \"Monty Python's Holy Grail is a hilarious spoof on the legend of King Arthur and his knights. The absurd humor and clever satire make this film a timeless classic.\"\n",
        "\n",
        "{reviews_text}\n",
        "\"\"\"\n",
        "response = output.invoke(multitask_prompt)\n",
        "print(\"Granite Model Response:\\n\")\n",
        "print(response)"
      ],
      "metadata": {
        "colab": {
          "base_uri": "https://localhost:8080/"
        },
        "outputId": "3169461e-5b17-4bd6-c941-868ac8596941",
        "id": "dJ4rxiGC8fKt"
      },
      "execution_count": null,
      "outputs": [
        {
          "output_type": "stream",
          "name": "stdout",
          "text": [
            "Granite Model Response:\n",
            "\n",
            "### Comedy:\n",
            "\n",
            "1. **Monty Python and the Holy Grail (1975)**\n",
            "   - Review 1: \"Monty Python's Holy Grail is a hilarious spoof on the legend of King Arthur and his knights. The absurd humor and clever satire make this film a timeless classic.\"\n",
            "\n",
            "2. **The Big Lebowski (1998)**\n",
            "   - Review 1: \"The Big Lebowski is a Coen Brothers masterpiece, full of dark humor, eccentric characters, and a bowling-themed plot that's as entertaining as it is absurd.\"\n",
            "\n",
            "3. **Superbad (2007)**\n",
            "   - Review 1: \"Superbad is a raunchy yet heartwarming coming-of-age comedy that perfectly captures the awkwardness and desperation of teenage boys on the cusp of adulthood.\"\n",
            "\n",
            "4. **Fargo (1996)**\n",
            "   - Review 1: \"Fargo brilliantly blends dark comedy with a gripping crime story, showcasing Frances McDormand's Oscar-winning performance and the Coen Brothers' signature quirky style.\"\n",
            "\n",
            "5. **Annie Hall (1977)**\n",
            "   - Review 1: \"Annie Hall is Woody Allen's funniest and most poignant film, exploring love and relationships with sharp wit and self-deprecating humor.\"\n",
            "\n",
            "6. **Dr. Strangelove or: How I Learned to Stop Worrying and Love the Bomb (1964)**\n",
            "   - Review 1: \"Stanley Kubrick's dark comedy masterpiece, Dr. Strangelove, is a brilliant satire on Cold War paranoia and nuclear brinkmanship.\"\n",
            "\n",
            "7. **Some Like It Hot (1959)**\n",
            "   - Review 1: \"Billy Wilder's Some Like It Hot is a sophisticated and side-splitting farce about two musicians who disguise themselves as women to escape the mob, featuring legendary performances by Marilyn Monroe, Tony Curtis, and Jack Lemmon.\"\n",
            "\n",
            "8. **The Pr\n"
          ]
        }
      ]
    },
    {
      "cell_type": "code",
      "source": [
        "\n",
        "multitask_prompt = f\"\"\"\n",
        "from the answer of reviews before, please give me top 10 movie based of the most positive review for each genre (fantasy), ensuring they are from 1970 or later\n",
        "Used the following format:\n",
        "\n",
        "Based on the reviews provided, I've extracted and summarized the top 10 movies from each genre (horror) from 1970 onwards, ensuring to highlight the most positive reviews:\n",
        "\n",
        "### comedy:\n",
        "1.  **Monty Python and the Holy Grail (1975)**\n",
        "   - Review 1: \"Monty Python's Holy Grail is a hilarious spoof on the legend of King Arthur and his knights. The absurd humor and clever satire make this film a timeless classic.\"\n",
        "\n",
        "{reviews_text}\n",
        "\"\"\"\n",
        "response = output.invoke(multitask_prompt)\n",
        "print(\"Granite Model Response:\\n\")\n",
        "print(response)"
      ],
      "metadata": {
        "colab": {
          "base_uri": "https://localhost:8080/"
        },
        "outputId": "89754498-7635-4cd6-e25c-8e62f9820cf7",
        "id": "-DFfKHGW9Yar"
      },
      "execution_count": null,
      "outputs": [
        {
          "output_type": "stream",
          "name": "stdout",
          "text": [
            "Granite Model Response:\n",
            "\n",
            "### Fantasy Movies (1970 onwards, based on most positive reviews):\n",
            "\n",
            "1. **The Lord of the Rings: The Fellowship of the Ring (2001)**\n",
            "   - Review 1: \"Peter Jackson's adaptation of J.R.R. Tolkien's 'The Lord of the Rings' is a monumental achievement, a faithful and breathtaking cinematic journey into Middle-earth. The film sets the stage perfectly for the epic trilogy to come.\"\n",
            "\n",
            "2. **Pan's Labyrinth (2006)**\n",
            "   - Review 1: \"Guillermo del Toro's 'Pan's Labyrinth' is a dark, enchanting fairy tale set against the backdrop of post-Civil War Spain. Its blend of fantasy and historical drama is masterfully executed, creating a hauntingly beautiful world.\"\n",
            "\n",
            "3. **Spirited Away (2001)**\n",
            "   - Review 1: \"Hayao Miyazaki's 'Spirited Away' is a magical, visually stunning film that takes viewers on a journey through a mystical world filled with spirits and mythical creatures. It's a timeless classic of Japanese animation.\"\n",
            "\n",
            "4. **The Princess Bride (1987)**\n",
            "   - Review 1: \"Rob Reiner's 'The Princess Bride' is a delightful, adventurous romance filled with wit, charm, and unforgettable characters. It's a film that appeals to both children and adults with its perfect blend of humor, fantasy, and love story.\"\n",
            "\n",
            "5. **Stardust (2007)**\n",
            "   - Review 1: \"Matthew Vaughn's 'Stardust' is a charming, whimsical fantasy film that weaves a captivating tale of love, adventure, and magic. It's a modern fairy tale with a stellar cast and enchanting visuals.\"\n",
            "\n",
            "6. **The Chronicles of Narnia: The Lion, the Witch and the Wardrobe (2005)**\n",
            "   - Review 1: \"Andrew Adamson's 'The Chronicles of\n"
          ]
        }
      ]
    },
    {
      "cell_type": "code",
      "source": [
        "\n",
        "multitask_prompt = f\"\"\"\n",
        "from the answer of reviews before, please give me top 10 movie based of the most positive review for each genre (animation), ensuring they are from 1970 or later\n",
        "Used the following format:\n",
        "\n",
        "Based on the reviews provided, I've extracted and summarized the top 10 movies from each genre (horror) from 1970 onwards, ensuring to highlight the most positive reviews:\n",
        "\n",
        "### comedy:\n",
        "1.  **Monty Python and the Holy Grail (1975)**\n",
        "   - Review 1: \"Monty Python's Holy Grail is a hilarious spoof on the legend of King Arthur and his knights. The absurd humor and clever satire make this film a timeless classic.\"\n",
        "\n",
        "{reviews_text}\n",
        "\"\"\"\n",
        "response = output.invoke(multitask_prompt)\n",
        "print(\"Granite Model Response:\\n\")\n",
        "print(response)"
      ],
      "metadata": {
        "colab": {
          "base_uri": "https://localhost:8080/"
        },
        "outputId": "1b4486c7-d2ec-453e-c770-8b5640f7fd9f",
        "id": "jIH4MVp_9cuB"
      },
      "execution_count": null,
      "outputs": [
        {
          "output_type": "stream",
          "name": "stdout",
          "text": [
            "Granite Model Response:\n",
            "\n",
            "### Animation:\n",
            "\n",
            "Based on the reviews provided, here are the top 10 most positively reviewed animated movies from 1970 onwards:\n",
            "\n",
            "1. **Toy Story (1995)**\n",
            "   - Review 1: \"Toy Story is a groundbreaking film that revolutionized computer animation. Its heartwarming story, lovable characters, and clever humor make it a timeless classic.\"\n",
            "\n",
            "2. **The Lion King (1994)**\n",
            "   - Review 1: \"Disney's The Lion King is a masterpiece of animation. Its compelling story, memorable music, and endearing characters have made it a beloved classic for generations.\"\n",
            "\n",
            "3. **Spirited Away (2001)**\n",
            "   - Review 1: \"Spirited Away is a visually stunning film with a captivating story and unforgettable characters. Studio Ghibli's work continues to push the boundaries of animation.\"\n",
            "\n",
            "4. **Finding Nemo (2003)**\n",
            "   - Review 1: \"Finding Nemo is a joyful underwater adventure with a heartwarming story about family and friendship. Pixar's attention to detail and emotional depth make this film a standout.\"\n",
            "\n",
            "5. **Wall·E (2008)**\n",
            "   - Review 1: \"Wall·E is a visually innovative and emotionally resonant film that uses minimal dialogue to tell a powerful story about environmentalism and love. A true masterpiece of modern animation.\"\n",
            "\n",
            "6. **Up (2009)**\n",
            "   - Review 1: \"Up takes viewers on an extraordinary journey, balancing heartfelt drama with adventurous comedy. Pixar once again demonstrates why they are leaders in animated storytelling.\"\n",
            "\n",
            "7. **Waltz with Bashir (2008)**\n",
            "   - Review 1: \"Waltz with Bashir is a unique and moving animated documentary that uses its medium to explore complex themes of memory and war. Its striking visuals and thought-provoking narrative make it a must-watch.\"\n",
            "\n",
            "8. **Persepolis (2007)**\n",
            "   - Review 1: \"Persepolis is a beautifully animated adaptation of Marjane\n"
          ]
        }
      ]
    }
  ]
}
